{
  "nbformat": 4,
  "nbformat_minor": 0,
  "metadata": {
    "colab": {
      "name": "AutoEncoder.ipynb",
      "provenance": [],
      "authorship_tag": "ABX9TyPK8kRDQwra2v115tfBj69M",
      "include_colab_link": true
    },
    "kernelspec": {
      "name": "python3",
      "display_name": "Python 3"
    },
    "language_info": {
      "name": "python"
    },
    "accelerator": "GPU"
  },
  "cells": [
    {
      "cell_type": "markdown",
      "metadata": {
        "id": "view-in-github",
        "colab_type": "text"
      },
      "source": [
        "<a href=\"https://colab.research.google.com/github/ralbu85/AI_student/blob/master/AutoEncoder.ipynb\" target=\"_parent\"><img src=\"https://colab.research.google.com/assets/colab-badge.svg\" alt=\"Open In Colab\"/></a>"
      ]
    },
    {
      "cell_type": "markdown",
      "metadata": {
        "id": "Z88_Ij7FzdPp"
      },
      "source": [
        "## 패키지 불러오기"
      ]
    },
    {
      "cell_type": "code",
      "metadata": {
        "id": "eG6xxV7n4n-A"
      },
      "source": [
        "# 기본 패키지\n",
        "import matplotlib.pyplot as plt\n",
        "import numpy as np\n",
        "import pandas as pd"
      ],
      "execution_count": null,
      "outputs": []
    },
    {
      "cell_type": "code",
      "metadata": {
        "id": "S0FDrelc4rrI"
      },
      "source": [
        "# 이상치 탐지시 사용될 패키지\n",
        "from sklearn.metrics import accuracy_score, precision_score, recall_score\n",
        "from sklearn.model_selection import train_test_split"
      ],
      "execution_count": null,
      "outputs": []
    },
    {
      "cell_type": "code",
      "metadata": {
        "id": "9SkWjXo4441D"
      },
      "source": [
        "# 케라스 관련 패키지\n",
        "import tensorflow as tf\n",
        "from tensorflow.keras import layers, losses\n",
        "from tensorflow.keras.datasets import fashion_mnist\n",
        "from tensorflow.keras.models import Model # 사용자 정의 모형을 만들기 위한 템플릿"
      ],
      "execution_count": null,
      "outputs": []
    },
    {
      "cell_type": "markdown",
      "metadata": {
        "id": "uoCASrtA5QZO"
      },
      "source": [
        "## 데이터 불러오기"
      ]
    },
    {
      "cell_type": "code",
      "metadata": {
        "id": "5DQZReQ-5P35"
      },
      "source": [
        "# 생성모델: 비지도학습\n",
        "(x_train,_),(x_test,_) = fashion_mnist.load_data() "
      ],
      "execution_count": null,
      "outputs": []
    },
    {
      "cell_type": "code",
      "metadata": {
        "colab": {
          "base_uri": "https://localhost:8080/"
        },
        "id": "AOWW6as35kk3",
        "outputId": "d4d6da25-6558-4068-d34a-89c6a0b04205"
      },
      "source": [
        "# 이미지 데이터 스케일링\n",
        "x_train = x_train.astype('float32')/255.\n",
        "x_test = x_test.astype('float32')/255.\n",
        "\n",
        "print(x_train.shape)\n",
        "print(x_test.shape)"
      ],
      "execution_count": null,
      "outputs": [
        {
          "output_type": "stream",
          "name": "stdout",
          "text": [
            "(60000, 28, 28)\n",
            "(10000, 28, 28)\n"
          ]
        }
      ]
    },
    {
      "cell_type": "markdown",
      "metadata": {
        "id": "7X_SUXnT547r"
      },
      "source": [
        "## Model을 상속받아 custom 모델 만들기"
      ]
    },
    {
      "cell_type": "code",
      "metadata": {
        "id": "Z2tisScV58B7"
      },
      "source": [
        "class Autoencoder(Model): # Model-> 사용자 정의 모형을 만들기 위한 일종의 템플릿\n",
        "    # Autoencder(32)\n",
        "    def __init__(self, latent_dim): #self 자기 자신(관례적), latent_dim 입력 매개변수 \n",
        "        super(Autoencoder,self).__init__() # Model 클래스 내부의 생성자\n",
        "        self.latent_dim = latent_dim # latent_dim이라고 하는 내부 변수 <-사용자가 객체 만들때 입력한 값을\n",
        "        self.encoder = tf.keras.Sequential([\n",
        "                                            layers.Flatten(),\n",
        "                                            layers.Dense(latent_dim, activation='sigmoid')\n",
        "        ])\n",
        "        self.decoder = tf.keras.Sequential([\n",
        "                                            layers.Dense(784,activation='relu'),\n",
        "                                            layers.Reshape((28,28))\n",
        "        ])\n",
        "    \n",
        "    # 오버라이딩\n",
        "    # Model을 상속받음\n",
        "    # Model안에 call이라는 함수가 템플릿처럼 존재\n",
        "    # call -> 입력변수가 들어와서 y값이 어떻게 출력되는지 정의\n",
        "    def call(self,x):\n",
        "        encoded = self.encoder(x)\n",
        "        decoded = self.decoder(encoded)\n",
        "        return decoded"
      ],
      "execution_count": null,
      "outputs": []
    },
    {
      "cell_type": "code",
      "metadata": {
        "id": "e-1spnjU8uFJ"
      },
      "source": [
        "autoencoder = Autoencoder(64) #잠재차원이 64개인 오토인코더 생성"
      ],
      "execution_count": null,
      "outputs": []
    },
    {
      "cell_type": "code",
      "metadata": {
        "id": "ToqDlDXc82hh"
      },
      "source": [
        "autoencoder.compile(optimizer='adam',loss=losses.MeanSquaredError())"
      ],
      "execution_count": null,
      "outputs": []
    },
    {
      "cell_type": "code",
      "metadata": {
        "colab": {
          "base_uri": "https://localhost:8080/"
        },
        "id": "rNq1IdhF9EWN",
        "outputId": "ff26d750-1f5c-4205-dc0a-eb609c5cc50f"
      },
      "source": [
        "autoencoder.fit(x_train,x_train,\n",
        "                epochs=10,shuffle=True,\n",
        "                validation_data=(x_test,x_test)                \n",
        ")"
      ],
      "execution_count": null,
      "outputs": [
        {
          "output_type": "stream",
          "name": "stdout",
          "text": [
            "Epoch 1/10\n",
            "1875/1875 [==============================] - 9s 3ms/step - loss: 0.0521 - val_loss: 0.0367\n",
            "Epoch 2/10\n",
            "1875/1875 [==============================] - 6s 3ms/step - loss: 0.0319 - val_loss: 0.0301\n",
            "Epoch 3/10\n",
            "1875/1875 [==============================] - 6s 3ms/step - loss: 0.0296 - val_loss: 0.0294\n",
            "Epoch 4/10\n",
            "1875/1875 [==============================] - 6s 3ms/step - loss: 0.0286 - val_loss: 0.0284\n",
            "Epoch 5/10\n",
            "1875/1875 [==============================] - 6s 3ms/step - loss: 0.0283 - val_loss: 0.0284\n",
            "Epoch 6/10\n",
            "1875/1875 [==============================] - 6s 3ms/step - loss: 0.0282 - val_loss: 0.0282\n",
            "Epoch 7/10\n",
            "1875/1875 [==============================] - 6s 3ms/step - loss: 0.0281 - val_loss: 0.0281\n",
            "Epoch 8/10\n",
            "1875/1875 [==============================] - 6s 3ms/step - loss: 0.0280 - val_loss: 0.0280\n",
            "Epoch 9/10\n",
            "1875/1875 [==============================] - 6s 3ms/step - loss: 0.0280 - val_loss: 0.0280\n",
            "Epoch 10/10\n",
            "1875/1875 [==============================] - 6s 3ms/step - loss: 0.0279 - val_loss: 0.0280\n"
          ]
        },
        {
          "output_type": "execute_result",
          "data": {
            "text/plain": [
              "<keras.callbacks.History at 0x7f8cd0073ad0>"
            ]
          },
          "metadata": {},
          "execution_count": 25
        }
      ]
    },
    {
      "cell_type": "code",
      "metadata": {
        "id": "Jh05oEFz95eI"
      },
      "source": [
        "encoded_imgs=autoencoder.encoder(x_test).numpy()\n",
        "decoded_imgs=autoencoder.decoder(encoded_imgs).numpy()"
      ],
      "execution_count": null,
      "outputs": []
    },
    {
      "cell_type": "code",
      "metadata": {
        "colab": {
          "base_uri": "https://localhost:8080/",
          "height": 255
        },
        "id": "HM8It3Kn-Rwg",
        "outputId": "ec4f4e75-5e6b-48ff-df45-e589c9880f75"
      },
      "source": [
        "n=10\n",
        "plt.figure(figsize=(20,4))\n",
        "for i in range(n):\n",
        "    ax = plt.subplot(2,n,i+1) #20개의 그림을 만들겠다, (2,10,1)~(2,10,10)\n",
        "    plt.imshow(x_test[i]) #원본데이터\n",
        "    plt.title('original')\n",
        "    plt.gray()\n",
        "    ax.get_xaxis().set_visible(False)\n",
        "    ax.get_yaxis().set_visible(False)\n",
        "\n",
        "    ax = plt.subplot(2,n,i+1+n) #(2,10,11)~(2,10,20)\n",
        "    plt.imshow(decoded_imgs[i])\n",
        "    plt.title('reconstructed')\n",
        "    plt.gray()\n",
        "    ax.get_xaxis().set_visible(False)\n",
        "    ax.get_yaxis().set_visible(False)\n",
        "\n"
      ],
      "execution_count": null,
      "outputs": [
        {
          "output_type": "display_data",
          "data": {
            "image/png": "[encoded data removed]",
            "text/plain": [
              "<Figure size 1440x288 with 20 Axes>"
            ]
          },
          "metadata": {
            "needs_background": "light"
          }
        }
      ]
    },
    {
      "cell_type": "markdown",
      "metadata": {
        "id": "xxN-_xyI_sLD"
      },
      "source": [
        "## 이미지 denoising"
      ]
    },
    {
      "cell_type": "code",
      "metadata": {
        "id": "30bzWW2l_u9i"
      },
      "source": [
        "(x_train, _), (x_test, _) = fashion_mnist.load_data()"
      ],
      "execution_count": null,
      "outputs": []
    },
    {
      "cell_type": "code",
      "metadata": {
        "colab": {
          "base_uri": "https://localhost:8080/"
        },
        "id": "ayWSTNeu_zX3",
        "outputId": "781d854f-3d4e-4169-e41b-e8a02e34bd97"
      },
      "source": [
        "x_train = x_train.astype('float32') / 255.\n",
        "x_test = x_test.astype('float32') / 255.\n",
        "\n",
        "print(x_train.shape)"
      ],
      "execution_count": null,
      "outputs": [
        {
          "output_type": "stream",
          "name": "stdout",
          "text": [
            "(60000, 28, 28)\n"
          ]
        }
      ]
    },
    {
      "cell_type": "code",
      "metadata": {
        "id": "kxHcxYhQ_95e"
      },
      "source": [
        "noise_factor = 0.2\n",
        "x_train_noisy = x_train + noise_factor * tf.random.normal(shape=x_train.shape) \n",
        "x_test_noisy = x_test + noise_factor * tf.random.normal(shape=x_test.shape) \n",
        "\n",
        "x_train_noisy = tf.clip_by_value(x_train_noisy, clip_value_min=0., clip_value_max=1.)\n",
        "x_test_noisy = tf.clip_by_value(x_test_noisy, clip_value_min=0., clip_value_max=1.)"
      ],
      "execution_count": null,
      "outputs": []
    },
    {
      "cell_type": "code",
      "metadata": {
        "colab": {
          "base_uri": "https://localhost:8080/",
          "height": 151
        },
        "id": "yVfVvGgLAmYZ",
        "outputId": "ed9059a1-582e-499c-ef5c-9c9c6a661a46"
      },
      "source": [
        "n = 10\n",
        "plt.figure(figsize=(20, 2))\n",
        "for i in range(n):\n",
        "    ax = plt.subplot(1, n, i + 1)\n",
        "    plt.title(\"original + noise\")\n",
        "    plt.imshow(tf.squeeze(x_test_noisy[i]))\n",
        "    plt.gray()\n",
        "plt.show()"
      ],
      "execution_count": null,
      "outputs": [
        {
          "output_type": "display_data",
          "data": {
            "image/png": "[encoded data removed]",
            "text/plain": [
              "<Figure size 1440x144 with 10 Axes>"
            ]
          },
          "metadata": {
            "needs_background": "light"
          }
        }
      ]
    },
    {
      "cell_type": "code",
      "metadata": {
        "id": "XH08MlGRAwuO"
      },
      "source": [
        "encoded_imgs=autoencoder.encoder(x_test_noisy).numpy()\n",
        "decoded_imgs=autoencoder.decoder(encoded_imgs).numpy()"
      ],
      "execution_count": null,
      "outputs": []
    },
    {
      "cell_type": "code",
      "metadata": {
        "colab": {
          "base_uri": "https://localhost:8080/",
          "height": 255
        },
        "id": "sykdBnI-A5ET",
        "outputId": "3ac041b2-5d6c-4be9-8c3d-39f25596f18f"
      },
      "source": [
        "n=10\n",
        "plt.figure(figsize=(20,4))\n",
        "for i in range(n):\n",
        "    ax = plt.subplot(2,n,i+1) #20개의 그림을 만들겠다, (2,10,1)~(2,10,10)\n",
        "    plt.imshow(x_test_noisy[i]) #원본데이터\n",
        "    plt.title('original')\n",
        "    plt.gray()\n",
        "    ax.get_xaxis().set_visible(False)\n",
        "    ax.get_yaxis().set_visible(False)\n",
        "\n",
        "    ax = plt.subplot(2,n,i+1+n) #(2,10,11)~(2,10,20)\n",
        "    plt.imshow(decoded_imgs[i])\n",
        "    plt.title('reconstructed')\n",
        "    plt.gray()\n",
        "    ax.get_xaxis().set_visible(False)\n",
        "    ax.get_yaxis().set_visible(False)"
      ],
      "execution_count": null,
      "outputs": [
        {
          "output_type": "display_data",
          "data": {
            "image/png": "[encoded data removed]",
            "text/plain": [
              "<Figure size 1440x288 with 20 Axes>"
            ]
          },
          "metadata": {
            "needs_background": "light"
          }
        }
      ]
    },
    {
      "cell_type": "markdown",
      "metadata": {
        "id": "-I6rWqFwL2PV"
      },
      "source": [
        "## 이상치 탐지: 심전도 데이터셋"
      ]
    },
    {
      "cell_type": "code",
      "metadata": {
        "colab": {
          "base_uri": "https://localhost:8080/",
          "height": 443
        },
        "id": "QYMkfp4ML4VH",
        "outputId": "717033c6-4fdb-4a30-a5d6-e9ff161981f7"
      },
      "source": [
        "df = pd.read_csv('http://storage.googleapis.com/download.tensorflow.org/data/ecg.csv', header=None)\n",
        "df"
      ],
      "execution_count": null,
      "outputs": [
        {
          "output_type": "execute_result",
          "data": {
            "text/html": [
              "<div>\n",
              "<style scoped>\n",
              "    .dataframe tbody tr th:only-of-type {\n",
              "        vertical-align: middle;\n",
              "    }\n",
              "\n",
              "    .dataframe tbody tr th {\n",
              "        vertical-align: top;\n",
              "    }\n",
              "\n",
              "    .dataframe thead th {\n",
              "        text-align: right;\n",
              "    }\n",
              "</style>\n",
              "<table border=\"1\" class=\"dataframe\">\n",
              "  <thead>\n",
              "    <tr style=\"text-align: right;\">\n",
              "      <th></th>\n",
              "      <th>0</th>\n",
              "      <th>1</th>\n",
              "      <th>2</th>\n",
              "      <th>3</th>\n",
              "      <th>4</th>\n",
              "      <th>5</th>\n",
              "      <th>6</th>\n",
              "      <th>7</th>\n",
              "      <th>8</th>\n",
              "      <th>9</th>\n",
              "      <th>10</th>\n",
              "      <th>11</th>\n",
              "      <th>12</th>\n",
              "      <th>13</th>\n",
              "      <th>14</th>\n",
              "      <th>15</th>\n",
              "      <th>16</th>\n",
              "      <th>17</th>\n",
              "      <th>18</th>\n",
              "      <th>19</th>\n",
              "      <th>20</th>\n",
              "      <th>21</th>\n",
              "      <th>22</th>\n",
              "      <th>23</th>\n",
              "      <th>24</th>\n",
              "      <th>25</th>\n",
              "      <th>26</th>\n",
              "      <th>27</th>\n",
              "      <th>28</th>\n",
              "      <th>29</th>\n",
              "      <th>30</th>\n",
              "      <th>31</th>\n",
              "      <th>32</th>\n",
              "      <th>33</th>\n",
              "      <th>34</th>\n",
              "      <th>35</th>\n",
              "      <th>36</th>\n",
              "      <th>37</th>\n",
              "      <th>38</th>\n",
              "      <th>39</th>\n",
              "      <th>...</th>\n",
              "      <th>101</th>\n",
              "      <th>102</th>\n",
              "      <th>103</th>\n",
              "      <th>104</th>\n",
              "      <th>105</th>\n",
              "      <th>106</th>\n",
              "      <th>107</th>\n",
              "      <th>108</th>\n",
              "      <th>109</th>\n",
              "      <th>110</th>\n",
              "      <th>111</th>\n",
              "      <th>112</th>\n",
              "      <th>113</th>\n",
              "      <th>114</th>\n",
              "      <th>115</th>\n",
              "      <th>116</th>\n",
              "      <th>117</th>\n",
              "      <th>118</th>\n",
              "      <th>119</th>\n",
              "      <th>120</th>\n",
              "      <th>121</th>\n",
              "      <th>122</th>\n",
              "      <th>123</th>\n",
              "      <th>124</th>\n",
              "      <th>125</th>\n",
              "      <th>126</th>\n",
              "      <th>127</th>\n",
              "      <th>128</th>\n",
              "      <th>129</th>\n",
              "      <th>130</th>\n",
              "      <th>131</th>\n",
              "      <th>132</th>\n",
              "      <th>133</th>\n",
              "      <th>134</th>\n",
              "      <th>135</th>\n",
              "      <th>136</th>\n",
              "      <th>137</th>\n",
              "      <th>138</th>\n",
              "      <th>139</th>\n",
              "      <th>140</th>\n",
              "    </tr>\n",
              "  </thead>\n",
              "  <tbody>\n",
              "    <tr>\n",
              "      <th>0</th>\n",
              "      <td>-0.112522</td>\n",
              "      <td>-2.827204</td>\n",
              "      <td>-3.773897</td>\n",
              "      <td>-4.349751</td>\n",
              "      <td>-4.376041</td>\n",
              "      <td>-3.474986</td>\n",
              "      <td>-2.181408</td>\n",
              "      <td>-1.818287</td>\n",
              "      <td>-1.250522</td>\n",
              "      <td>-0.477492</td>\n",
              "      <td>-0.363808</td>\n",
              "      <td>-0.491957</td>\n",
              "      <td>-0.421855</td>\n",
              "      <td>-0.309201</td>\n",
              "      <td>-0.495939</td>\n",
              "      <td>-0.342119</td>\n",
              "      <td>-0.355336</td>\n",
              "      <td>-0.367913</td>\n",
              "      <td>-0.316503</td>\n",
              "      <td>-0.412374</td>\n",
              "      <td>-0.471672</td>\n",
              "      <td>-0.413458</td>\n",
              "      <td>-0.364617</td>\n",
              "      <td>-0.449298</td>\n",
              "      <td>-0.471419</td>\n",
              "      <td>-0.424777</td>\n",
              "      <td>-0.462517</td>\n",
              "      <td>-0.552472</td>\n",
              "      <td>-0.475375</td>\n",
              "      <td>-0.694200</td>\n",
              "      <td>-0.701868</td>\n",
              "      <td>-0.593812</td>\n",
              "      <td>-0.660684</td>\n",
              "      <td>-0.713831</td>\n",
              "      <td>-0.769807</td>\n",
              "      <td>-0.672282</td>\n",
              "      <td>-0.653676</td>\n",
              "      <td>-0.639406</td>\n",
              "      <td>-0.559302</td>\n",
              "      <td>-0.591670</td>\n",
              "      <td>...</td>\n",
              "      <td>1.258179</td>\n",
              "      <td>1.433789</td>\n",
              "      <td>1.700533</td>\n",
              "      <td>1.999043</td>\n",
              "      <td>2.125341</td>\n",
              "      <td>1.993291</td>\n",
              "      <td>1.932246</td>\n",
              "      <td>1.797437</td>\n",
              "      <td>1.522284</td>\n",
              "      <td>1.251168</td>\n",
              "      <td>0.998730</td>\n",
              "      <td>0.483722</td>\n",
              "      <td>0.023132</td>\n",
              "      <td>-0.194914</td>\n",
              "      <td>-0.220917</td>\n",
              "      <td>-0.243737</td>\n",
              "      <td>-0.254695</td>\n",
              "      <td>-0.291136</td>\n",
              "      <td>-0.256490</td>\n",
              "      <td>-0.227874</td>\n",
              "      <td>-0.322423</td>\n",
              "      <td>-0.289286</td>\n",
              "      <td>-0.318170</td>\n",
              "      <td>-0.363654</td>\n",
              "      <td>-0.393456</td>\n",
              "      <td>-0.266419</td>\n",
              "      <td>-0.256823</td>\n",
              "      <td>-0.288694</td>\n",
              "      <td>-0.162338</td>\n",
              "      <td>0.160348</td>\n",
              "      <td>0.792168</td>\n",
              "      <td>0.933541</td>\n",
              "      <td>0.796958</td>\n",
              "      <td>0.578621</td>\n",
              "      <td>0.257740</td>\n",
              "      <td>0.228077</td>\n",
              "      <td>0.123431</td>\n",
              "      <td>0.925286</td>\n",
              "      <td>0.193137</td>\n",
              "      <td>1.0</td>\n",
              "    </tr>\n",
              "    <tr>\n",
              "      <th>1</th>\n",
              "      <td>-1.100878</td>\n",
              "      <td>-3.996840</td>\n",
              "      <td>-4.285843</td>\n",
              "      <td>-4.506579</td>\n",
              "      <td>-4.022377</td>\n",
              "      <td>-3.234368</td>\n",
              "      <td>-1.566126</td>\n",
              "      <td>-0.992258</td>\n",
              "      <td>-0.754680</td>\n",
              "      <td>0.042321</td>\n",
              "      <td>0.148951</td>\n",
              "      <td>0.183527</td>\n",
              "      <td>0.294876</td>\n",
              "      <td>0.190233</td>\n",
              "      <td>0.235575</td>\n",
              "      <td>0.253487</td>\n",
              "      <td>0.221742</td>\n",
              "      <td>0.050233</td>\n",
              "      <td>0.178042</td>\n",
              "      <td>0.139563</td>\n",
              "      <td>0.046794</td>\n",
              "      <td>0.043007</td>\n",
              "      <td>0.106544</td>\n",
              "      <td>0.012654</td>\n",
              "      <td>0.003995</td>\n",
              "      <td>0.045724</td>\n",
              "      <td>-0.045999</td>\n",
              "      <td>-0.072667</td>\n",
              "      <td>-0.071078</td>\n",
              "      <td>-0.153866</td>\n",
              "      <td>-0.227254</td>\n",
              "      <td>-0.249270</td>\n",
              "      <td>-0.253489</td>\n",
              "      <td>-0.332835</td>\n",
              "      <td>-0.264330</td>\n",
              "      <td>-0.345825</td>\n",
              "      <td>-0.310781</td>\n",
              "      <td>-0.334160</td>\n",
              "      <td>-0.306178</td>\n",
              "      <td>-0.174563</td>\n",
              "      <td>...</td>\n",
              "      <td>1.808428</td>\n",
              "      <td>2.164346</td>\n",
              "      <td>2.070747</td>\n",
              "      <td>1.903614</td>\n",
              "      <td>1.764455</td>\n",
              "      <td>1.507769</td>\n",
              "      <td>1.293428</td>\n",
              "      <td>0.894562</td>\n",
              "      <td>0.578016</td>\n",
              "      <td>0.244343</td>\n",
              "      <td>-0.286443</td>\n",
              "      <td>-0.515881</td>\n",
              "      <td>-0.732707</td>\n",
              "      <td>-0.832465</td>\n",
              "      <td>-0.803318</td>\n",
              "      <td>-0.836252</td>\n",
              "      <td>-0.777865</td>\n",
              "      <td>-0.774753</td>\n",
              "      <td>-0.733404</td>\n",
              "      <td>-0.721386</td>\n",
              "      <td>-0.832095</td>\n",
              "      <td>-0.711982</td>\n",
              "      <td>-0.751867</td>\n",
              "      <td>-0.757720</td>\n",
              "      <td>-0.853120</td>\n",
              "      <td>-0.766988</td>\n",
              "      <td>-0.688161</td>\n",
              "      <td>-0.519923</td>\n",
              "      <td>0.039406</td>\n",
              "      <td>0.560327</td>\n",
              "      <td>0.538356</td>\n",
              "      <td>0.656881</td>\n",
              "      <td>0.787490</td>\n",
              "      <td>0.724046</td>\n",
              "      <td>0.555784</td>\n",
              "      <td>0.476333</td>\n",
              "      <td>0.773820</td>\n",
              "      <td>1.119621</td>\n",
              "      <td>-1.436250</td>\n",
              "      <td>1.0</td>\n",
              "    </tr>\n",
              "    <tr>\n",
              "      <th>2</th>\n",
              "      <td>-0.567088</td>\n",
              "      <td>-2.593450</td>\n",
              "      <td>-3.874230</td>\n",
              "      <td>-4.584095</td>\n",
              "      <td>-4.187449</td>\n",
              "      <td>-3.151462</td>\n",
              "      <td>-1.742940</td>\n",
              "      <td>-1.490658</td>\n",
              "      <td>-1.183580</td>\n",
              "      <td>-0.394229</td>\n",
              "      <td>-0.282897</td>\n",
              "      <td>-0.356926</td>\n",
              "      <td>-0.287297</td>\n",
              "      <td>-0.399489</td>\n",
              "      <td>-0.473244</td>\n",
              "      <td>-0.379048</td>\n",
              "      <td>-0.399039</td>\n",
              "      <td>-0.178594</td>\n",
              "      <td>-0.339522</td>\n",
              "      <td>-0.498447</td>\n",
              "      <td>-0.337251</td>\n",
              "      <td>-0.425480</td>\n",
              "      <td>-0.423952</td>\n",
              "      <td>-0.463170</td>\n",
              "      <td>-0.493253</td>\n",
              "      <td>-0.549749</td>\n",
              "      <td>-0.529831</td>\n",
              "      <td>-0.530935</td>\n",
              "      <td>-0.502365</td>\n",
              "      <td>-0.417368</td>\n",
              "      <td>-0.526346</td>\n",
              "      <td>-0.471005</td>\n",
              "      <td>-0.676784</td>\n",
              "      <td>-0.898612</td>\n",
              "      <td>-0.610571</td>\n",
              "      <td>-0.530164</td>\n",
              "      <td>-0.765674</td>\n",
              "      <td>-0.581937</td>\n",
              "      <td>-0.537848</td>\n",
              "      <td>-0.556386</td>\n",
              "      <td>...</td>\n",
              "      <td>1.810988</td>\n",
              "      <td>2.185398</td>\n",
              "      <td>2.262985</td>\n",
              "      <td>2.052920</td>\n",
              "      <td>1.890488</td>\n",
              "      <td>1.793033</td>\n",
              "      <td>1.564784</td>\n",
              "      <td>1.234619</td>\n",
              "      <td>0.900302</td>\n",
              "      <td>0.551957</td>\n",
              "      <td>0.258222</td>\n",
              "      <td>-0.128587</td>\n",
              "      <td>-0.092585</td>\n",
              "      <td>-0.168606</td>\n",
              "      <td>-0.495989</td>\n",
              "      <td>-0.395034</td>\n",
              "      <td>-0.328238</td>\n",
              "      <td>-0.448138</td>\n",
              "      <td>-0.268230</td>\n",
              "      <td>-0.456415</td>\n",
              "      <td>-0.357867</td>\n",
              "      <td>-0.317508</td>\n",
              "      <td>-0.434112</td>\n",
              "      <td>-0.549203</td>\n",
              "      <td>-0.324615</td>\n",
              "      <td>-0.268082</td>\n",
              "      <td>-0.220384</td>\n",
              "      <td>-0.117429</td>\n",
              "      <td>0.614059</td>\n",
              "      <td>1.284825</td>\n",
              "      <td>0.886073</td>\n",
              "      <td>0.531452</td>\n",
              "      <td>0.311377</td>\n",
              "      <td>-0.021919</td>\n",
              "      <td>-0.713683</td>\n",
              "      <td>-0.532197</td>\n",
              "      <td>0.321097</td>\n",
              "      <td>0.904227</td>\n",
              "      <td>-0.421797</td>\n",
              "      <td>1.0</td>\n",
              "    </tr>\n",
              "    <tr>\n",
              "      <th>3</th>\n",
              "      <td>0.490473</td>\n",
              "      <td>-1.914407</td>\n",
              "      <td>-3.616364</td>\n",
              "      <td>-4.318823</td>\n",
              "      <td>-4.268016</td>\n",
              "      <td>-3.881110</td>\n",
              "      <td>-2.993280</td>\n",
              "      <td>-1.671131</td>\n",
              "      <td>-1.333884</td>\n",
              "      <td>-0.965629</td>\n",
              "      <td>-0.183319</td>\n",
              "      <td>-0.101657</td>\n",
              "      <td>-0.273874</td>\n",
              "      <td>-0.127818</td>\n",
              "      <td>-0.195983</td>\n",
              "      <td>-0.213523</td>\n",
              "      <td>-0.176473</td>\n",
              "      <td>-0.156932</td>\n",
              "      <td>-0.149172</td>\n",
              "      <td>-0.181510</td>\n",
              "      <td>-0.180074</td>\n",
              "      <td>-0.246151</td>\n",
              "      <td>-0.274260</td>\n",
              "      <td>-0.140960</td>\n",
              "      <td>-0.277449</td>\n",
              "      <td>-0.382549</td>\n",
              "      <td>-0.311937</td>\n",
              "      <td>-0.360093</td>\n",
              "      <td>-0.405968</td>\n",
              "      <td>-0.571433</td>\n",
              "      <td>-0.524106</td>\n",
              "      <td>-0.537886</td>\n",
              "      <td>-0.606778</td>\n",
              "      <td>-0.661446</td>\n",
              "      <td>-0.683375</td>\n",
              "      <td>-0.746683</td>\n",
              "      <td>-0.635662</td>\n",
              "      <td>-0.625231</td>\n",
              "      <td>-0.540094</td>\n",
              "      <td>-0.674995</td>\n",
              "      <td>...</td>\n",
              "      <td>1.772155</td>\n",
              "      <td>2.000769</td>\n",
              "      <td>1.925003</td>\n",
              "      <td>1.898426</td>\n",
              "      <td>1.720953</td>\n",
              "      <td>1.501711</td>\n",
              "      <td>1.422492</td>\n",
              "      <td>1.023225</td>\n",
              "      <td>0.776341</td>\n",
              "      <td>0.504426</td>\n",
              "      <td>0.056382</td>\n",
              "      <td>-0.233161</td>\n",
              "      <td>-0.406388</td>\n",
              "      <td>-0.327528</td>\n",
              "      <td>-0.460868</td>\n",
              "      <td>-0.402536</td>\n",
              "      <td>-0.345752</td>\n",
              "      <td>-0.354206</td>\n",
              "      <td>-0.439959</td>\n",
              "      <td>-0.425326</td>\n",
              "      <td>-0.439789</td>\n",
              "      <td>-0.451835</td>\n",
              "      <td>-0.395926</td>\n",
              "      <td>-0.448762</td>\n",
              "      <td>-0.391789</td>\n",
              "      <td>-0.376307</td>\n",
              "      <td>-0.461069</td>\n",
              "      <td>-0.253524</td>\n",
              "      <td>0.213006</td>\n",
              "      <td>0.491173</td>\n",
              "      <td>0.350816</td>\n",
              "      <td>0.499111</td>\n",
              "      <td>0.600345</td>\n",
              "      <td>0.842069</td>\n",
              "      <td>0.952074</td>\n",
              "      <td>0.990133</td>\n",
              "      <td>1.086798</td>\n",
              "      <td>1.403011</td>\n",
              "      <td>-0.383564</td>\n",
              "      <td>1.0</td>\n",
              "    </tr>\n",
              "    <tr>\n",
              "      <th>4</th>\n",
              "      <td>0.800232</td>\n",
              "      <td>-0.874252</td>\n",
              "      <td>-2.384761</td>\n",
              "      <td>-3.973292</td>\n",
              "      <td>-4.338224</td>\n",
              "      <td>-3.802422</td>\n",
              "      <td>-2.534510</td>\n",
              "      <td>-1.783423</td>\n",
              "      <td>-1.594450</td>\n",
              "      <td>-0.753199</td>\n",
              "      <td>-0.298107</td>\n",
              "      <td>-0.428928</td>\n",
              "      <td>-0.491351</td>\n",
              "      <td>-0.361304</td>\n",
              "      <td>-0.339296</td>\n",
              "      <td>-0.324952</td>\n",
              "      <td>-0.290113</td>\n",
              "      <td>-0.363051</td>\n",
              "      <td>-0.525684</td>\n",
              "      <td>-0.597423</td>\n",
              "      <td>-0.575523</td>\n",
              "      <td>-0.567503</td>\n",
              "      <td>-0.504555</td>\n",
              "      <td>-0.618406</td>\n",
              "      <td>-0.682814</td>\n",
              "      <td>-0.743849</td>\n",
              "      <td>-0.815588</td>\n",
              "      <td>-0.826902</td>\n",
              "      <td>-0.782374</td>\n",
              "      <td>-0.929462</td>\n",
              "      <td>-0.999672</td>\n",
              "      <td>-1.060969</td>\n",
              "      <td>-1.007877</td>\n",
              "      <td>-1.028735</td>\n",
              "      <td>-1.122629</td>\n",
              "      <td>-1.028650</td>\n",
              "      <td>-1.046515</td>\n",
              "      <td>-1.063372</td>\n",
              "      <td>-1.122423</td>\n",
              "      <td>-0.983242</td>\n",
              "      <td>...</td>\n",
              "      <td>1.155363</td>\n",
              "      <td>1.336254</td>\n",
              "      <td>1.627534</td>\n",
              "      <td>1.717594</td>\n",
              "      <td>1.696487</td>\n",
              "      <td>1.741686</td>\n",
              "      <td>1.674078</td>\n",
              "      <td>1.546928</td>\n",
              "      <td>1.331738</td>\n",
              "      <td>1.110168</td>\n",
              "      <td>0.922210</td>\n",
              "      <td>0.521777</td>\n",
              "      <td>0.154852</td>\n",
              "      <td>-0.123861</td>\n",
              "      <td>-0.202998</td>\n",
              "      <td>-0.247956</td>\n",
              "      <td>-0.219122</td>\n",
              "      <td>-0.214695</td>\n",
              "      <td>-0.319215</td>\n",
              "      <td>-0.198597</td>\n",
              "      <td>-0.151618</td>\n",
              "      <td>-0.129593</td>\n",
              "      <td>-0.074939</td>\n",
              "      <td>-0.196807</td>\n",
              "      <td>-0.174795</td>\n",
              "      <td>-0.208833</td>\n",
              "      <td>-0.210754</td>\n",
              "      <td>-0.100485</td>\n",
              "      <td>0.197446</td>\n",
              "      <td>0.966606</td>\n",
              "      <td>1.148884</td>\n",
              "      <td>0.958434</td>\n",
              "      <td>1.059025</td>\n",
              "      <td>1.371682</td>\n",
              "      <td>1.277392</td>\n",
              "      <td>0.960304</td>\n",
              "      <td>0.971020</td>\n",
              "      <td>1.614392</td>\n",
              "      <td>1.421456</td>\n",
              "      <td>1.0</td>\n",
              "    </tr>\n",
              "    <tr>\n",
              "      <th>...</th>\n",
              "      <td>...</td>\n",
              "      <td>...</td>\n",
              "      <td>...</td>\n",
              "      <td>...</td>\n",
              "      <td>...</td>\n",
              "      <td>...</td>\n",
              "      <td>...</td>\n",
              "      <td>...</td>\n",
              "      <td>...</td>\n",
              "      <td>...</td>\n",
              "      <td>...</td>\n",
              "      <td>...</td>\n",
              "      <td>...</td>\n",
              "      <td>...</td>\n",
              "      <td>...</td>\n",
              "      <td>...</td>\n",
              "      <td>...</td>\n",
              "      <td>...</td>\n",
              "      <td>...</td>\n",
              "      <td>...</td>\n",
              "      <td>...</td>\n",
              "      <td>...</td>\n",
              "      <td>...</td>\n",
              "      <td>...</td>\n",
              "      <td>...</td>\n",
              "      <td>...</td>\n",
              "      <td>...</td>\n",
              "      <td>...</td>\n",
              "      <td>...</td>\n",
              "      <td>...</td>\n",
              "      <td>...</td>\n",
              "      <td>...</td>\n",
              "      <td>...</td>\n",
              "      <td>...</td>\n",
              "      <td>...</td>\n",
              "      <td>...</td>\n",
              "      <td>...</td>\n",
              "      <td>...</td>\n",
              "      <td>...</td>\n",
              "      <td>...</td>\n",
              "      <td>...</td>\n",
              "      <td>...</td>\n",
              "      <td>...</td>\n",
              "      <td>...</td>\n",
              "      <td>...</td>\n",
              "      <td>...</td>\n",
              "      <td>...</td>\n",
              "      <td>...</td>\n",
              "      <td>...</td>\n",
              "      <td>...</td>\n",
              "      <td>...</td>\n",
              "      <td>...</td>\n",
              "      <td>...</td>\n",
              "      <td>...</td>\n",
              "      <td>...</td>\n",
              "      <td>...</td>\n",
              "      <td>...</td>\n",
              "      <td>...</td>\n",
              "      <td>...</td>\n",
              "      <td>...</td>\n",
              "      <td>...</td>\n",
              "      <td>...</td>\n",
              "      <td>...</td>\n",
              "      <td>...</td>\n",
              "      <td>...</td>\n",
              "      <td>...</td>\n",
              "      <td>...</td>\n",
              "      <td>...</td>\n",
              "      <td>...</td>\n",
              "      <td>...</td>\n",
              "      <td>...</td>\n",
              "      <td>...</td>\n",
              "      <td>...</td>\n",
              "      <td>...</td>\n",
              "      <td>...</td>\n",
              "      <td>...</td>\n",
              "      <td>...</td>\n",
              "      <td>...</td>\n",
              "      <td>...</td>\n",
              "      <td>...</td>\n",
              "      <td>...</td>\n",
              "    </tr>\n",
              "    <tr>\n",
              "      <th>4993</th>\n",
              "      <td>0.608558</td>\n",
              "      <td>-0.335651</td>\n",
              "      <td>-0.990948</td>\n",
              "      <td>-1.784153</td>\n",
              "      <td>-2.626145</td>\n",
              "      <td>-2.957065</td>\n",
              "      <td>-2.931897</td>\n",
              "      <td>-2.664816</td>\n",
              "      <td>-2.090137</td>\n",
              "      <td>-1.461841</td>\n",
              "      <td>-1.310741</td>\n",
              "      <td>-1.350191</td>\n",
              "      <td>-0.897232</td>\n",
              "      <td>-0.347377</td>\n",
              "      <td>-0.127374</td>\n",
              "      <td>-0.175253</td>\n",
              "      <td>-0.133935</td>\n",
              "      <td>-0.127746</td>\n",
              "      <td>-0.167125</td>\n",
              "      <td>-0.196438</td>\n",
              "      <td>-0.151087</td>\n",
              "      <td>-0.118241</td>\n",
              "      <td>-0.142858</td>\n",
              "      <td>-0.110899</td>\n",
              "      <td>-0.189112</td>\n",
              "      <td>-0.268931</td>\n",
              "      <td>-0.171724</td>\n",
              "      <td>-0.105479</td>\n",
              "      <td>-0.171500</td>\n",
              "      <td>-0.188036</td>\n",
              "      <td>-0.155364</td>\n",
              "      <td>-0.217236</td>\n",
              "      <td>-0.196223</td>\n",
              "      <td>-0.247688</td>\n",
              "      <td>-0.270637</td>\n",
              "      <td>-0.214633</td>\n",
              "      <td>-0.245627</td>\n",
              "      <td>-0.267793</td>\n",
              "      <td>-0.317590</td>\n",
              "      <td>-0.418842</td>\n",
              "      <td>...</td>\n",
              "      <td>0.390497</td>\n",
              "      <td>0.473759</td>\n",
              "      <td>0.432915</td>\n",
              "      <td>0.472685</td>\n",
              "      <td>0.493200</td>\n",
              "      <td>0.552863</td>\n",
              "      <td>0.545838</td>\n",
              "      <td>0.614583</td>\n",
              "      <td>0.651092</td>\n",
              "      <td>0.646532</td>\n",
              "      <td>0.743755</td>\n",
              "      <td>0.795111</td>\n",
              "      <td>0.828253</td>\n",
              "      <td>0.861925</td>\n",
              "      <td>0.853649</td>\n",
              "      <td>0.817809</td>\n",
              "      <td>0.791475</td>\n",
              "      <td>0.817593</td>\n",
              "      <td>0.903062</td>\n",
              "      <td>1.023747</td>\n",
              "      <td>1.083842</td>\n",
              "      <td>1.155933</td>\n",
              "      <td>1.304564</td>\n",
              "      <td>1.594337</td>\n",
              "      <td>1.974273</td>\n",
              "      <td>2.074684</td>\n",
              "      <td>1.972891</td>\n",
              "      <td>1.723897</td>\n",
              "      <td>1.473167</td>\n",
              "      <td>1.513738</td>\n",
              "      <td>1.757705</td>\n",
              "      <td>2.291923</td>\n",
              "      <td>2.704595</td>\n",
              "      <td>2.451519</td>\n",
              "      <td>2.017396</td>\n",
              "      <td>1.704358</td>\n",
              "      <td>1.688542</td>\n",
              "      <td>1.629593</td>\n",
              "      <td>1.342651</td>\n",
              "      <td>0.0</td>\n",
              "    </tr>\n",
              "    <tr>\n",
              "      <th>4994</th>\n",
              "      <td>-2.060402</td>\n",
              "      <td>-2.860116</td>\n",
              "      <td>-3.405074</td>\n",
              "      <td>-3.748719</td>\n",
              "      <td>-3.513561</td>\n",
              "      <td>-3.006545</td>\n",
              "      <td>-2.234850</td>\n",
              "      <td>-1.593270</td>\n",
              "      <td>-1.075279</td>\n",
              "      <td>-0.976047</td>\n",
              "      <td>-0.971595</td>\n",
              "      <td>-0.563637</td>\n",
              "      <td>-0.150418</td>\n",
              "      <td>-0.110991</td>\n",
              "      <td>-0.147843</td>\n",
              "      <td>-0.256977</td>\n",
              "      <td>-0.213821</td>\n",
              "      <td>-0.166170</td>\n",
              "      <td>-0.201934</td>\n",
              "      <td>-0.181257</td>\n",
              "      <td>-0.147274</td>\n",
              "      <td>-0.160996</td>\n",
              "      <td>-0.207139</td>\n",
              "      <td>-0.087334</td>\n",
              "      <td>-0.107383</td>\n",
              "      <td>-0.154374</td>\n",
              "      <td>-0.135253</td>\n",
              "      <td>-0.180605</td>\n",
              "      <td>-0.241821</td>\n",
              "      <td>-0.273684</td>\n",
              "      <td>-0.133057</td>\n",
              "      <td>-0.168472</td>\n",
              "      <td>-0.307771</td>\n",
              "      <td>-0.272107</td>\n",
              "      <td>-0.282517</td>\n",
              "      <td>-0.315472</td>\n",
              "      <td>-0.296114</td>\n",
              "      <td>-0.232014</td>\n",
              "      <td>-0.282664</td>\n",
              "      <td>-0.366708</td>\n",
              "      <td>...</td>\n",
              "      <td>0.465745</td>\n",
              "      <td>0.496355</td>\n",
              "      <td>0.539787</td>\n",
              "      <td>0.531596</td>\n",
              "      <td>0.595520</td>\n",
              "      <td>0.636497</td>\n",
              "      <td>0.662029</td>\n",
              "      <td>0.612571</td>\n",
              "      <td>0.716507</td>\n",
              "      <td>0.764831</td>\n",
              "      <td>0.710068</td>\n",
              "      <td>0.751373</td>\n",
              "      <td>0.773837</td>\n",
              "      <td>0.871983</td>\n",
              "      <td>0.848416</td>\n",
              "      <td>0.858186</td>\n",
              "      <td>0.873907</td>\n",
              "      <td>0.808171</td>\n",
              "      <td>0.886833</td>\n",
              "      <td>0.899531</td>\n",
              "      <td>0.928044</td>\n",
              "      <td>1.086932</td>\n",
              "      <td>1.178810</td>\n",
              "      <td>1.447170</td>\n",
              "      <td>1.682936</td>\n",
              "      <td>1.744396</td>\n",
              "      <td>1.612975</td>\n",
              "      <td>1.338757</td>\n",
              "      <td>1.151973</td>\n",
              "      <td>1.123739</td>\n",
              "      <td>1.388947</td>\n",
              "      <td>2.079675</td>\n",
              "      <td>2.433375</td>\n",
              "      <td>2.159484</td>\n",
              "      <td>1.819747</td>\n",
              "      <td>1.534767</td>\n",
              "      <td>1.696818</td>\n",
              "      <td>1.483832</td>\n",
              "      <td>1.047612</td>\n",
              "      <td>0.0</td>\n",
              "    </tr>\n",
              "    <tr>\n",
              "      <th>4995</th>\n",
              "      <td>-1.122969</td>\n",
              "      <td>-2.252925</td>\n",
              "      <td>-2.867628</td>\n",
              "      <td>-3.358605</td>\n",
              "      <td>-3.167849</td>\n",
              "      <td>-2.638360</td>\n",
              "      <td>-1.664162</td>\n",
              "      <td>-0.935655</td>\n",
              "      <td>-0.866953</td>\n",
              "      <td>-0.645363</td>\n",
              "      <td>-0.093342</td>\n",
              "      <td>0.099746</td>\n",
              "      <td>0.121585</td>\n",
              "      <td>0.125760</td>\n",
              "      <td>0.071543</td>\n",
              "      <td>0.050503</td>\n",
              "      <td>0.021200</td>\n",
              "      <td>0.026780</td>\n",
              "      <td>0.158262</td>\n",
              "      <td>0.099955</td>\n",
              "      <td>-0.009558</td>\n",
              "      <td>0.078789</td>\n",
              "      <td>0.086691</td>\n",
              "      <td>0.046382</td>\n",
              "      <td>0.068272</td>\n",
              "      <td>0.102911</td>\n",
              "      <td>0.106083</td>\n",
              "      <td>0.057099</td>\n",
              "      <td>0.028555</td>\n",
              "      <td>0.046705</td>\n",
              "      <td>0.046524</td>\n",
              "      <td>0.095233</td>\n",
              "      <td>0.059824</td>\n",
              "      <td>-0.021798</td>\n",
              "      <td>-0.022737</td>\n",
              "      <td>-0.083263</td>\n",
              "      <td>-0.125486</td>\n",
              "      <td>-0.082084</td>\n",
              "      <td>-0.023000</td>\n",
              "      <td>-0.168714</td>\n",
              "      <td>...</td>\n",
              "      <td>0.597168</td>\n",
              "      <td>0.625141</td>\n",
              "      <td>0.648181</td>\n",
              "      <td>0.594234</td>\n",
              "      <td>0.630589</td>\n",
              "      <td>0.654510</td>\n",
              "      <td>0.602251</td>\n",
              "      <td>0.656946</td>\n",
              "      <td>0.603251</td>\n",
              "      <td>0.599274</td>\n",
              "      <td>0.561487</td>\n",
              "      <td>0.547185</td>\n",
              "      <td>0.537524</td>\n",
              "      <td>0.603885</td>\n",
              "      <td>0.541677</td>\n",
              "      <td>0.580715</td>\n",
              "      <td>0.689346</td>\n",
              "      <td>0.746181</td>\n",
              "      <td>0.867390</td>\n",
              "      <td>0.783529</td>\n",
              "      <td>0.698720</td>\n",
              "      <td>0.798727</td>\n",
              "      <td>0.875711</td>\n",
              "      <td>0.985118</td>\n",
              "      <td>0.799260</td>\n",
              "      <td>0.577579</td>\n",
              "      <td>0.394182</td>\n",
              "      <td>0.458721</td>\n",
              "      <td>0.411458</td>\n",
              "      <td>0.205543</td>\n",
              "      <td>-0.472419</td>\n",
              "      <td>-1.310147</td>\n",
              "      <td>-2.029521</td>\n",
              "      <td>-3.221294</td>\n",
              "      <td>-4.176790</td>\n",
              "      <td>-4.009720</td>\n",
              "      <td>-2.874136</td>\n",
              "      <td>-2.008369</td>\n",
              "      <td>-1.808334</td>\n",
              "      <td>0.0</td>\n",
              "    </tr>\n",
              "    <tr>\n",
              "      <th>4996</th>\n",
              "      <td>-0.547705</td>\n",
              "      <td>-1.889545</td>\n",
              "      <td>-2.839779</td>\n",
              "      <td>-3.457912</td>\n",
              "      <td>-3.929149</td>\n",
              "      <td>-3.966026</td>\n",
              "      <td>-3.492560</td>\n",
              "      <td>-2.695269</td>\n",
              "      <td>-1.849691</td>\n",
              "      <td>-1.374321</td>\n",
              "      <td>-1.288459</td>\n",
              "      <td>-1.117578</td>\n",
              "      <td>-0.536271</td>\n",
              "      <td>-0.251050</td>\n",
              "      <td>-0.215496</td>\n",
              "      <td>-0.072500</td>\n",
              "      <td>-0.170556</td>\n",
              "      <td>-0.182279</td>\n",
              "      <td>-0.271306</td>\n",
              "      <td>-0.242693</td>\n",
              "      <td>-0.225397</td>\n",
              "      <td>-0.187956</td>\n",
              "      <td>-0.215918</td>\n",
              "      <td>-0.173543</td>\n",
              "      <td>-0.233401</td>\n",
              "      <td>-0.190231</td>\n",
              "      <td>-0.160668</td>\n",
              "      <td>-0.241456</td>\n",
              "      <td>-0.204146</td>\n",
              "      <td>-0.228155</td>\n",
              "      <td>-0.084758</td>\n",
              "      <td>-0.142782</td>\n",
              "      <td>-0.153214</td>\n",
              "      <td>-0.314872</td>\n",
              "      <td>-0.335928</td>\n",
              "      <td>-0.266875</td>\n",
              "      <td>-0.313519</td>\n",
              "      <td>-0.304439</td>\n",
              "      <td>-0.294795</td>\n",
              "      <td>-0.328737</td>\n",
              "      <td>...</td>\n",
              "      <td>0.471064</td>\n",
              "      <td>0.532288</td>\n",
              "      <td>0.541352</td>\n",
              "      <td>0.588983</td>\n",
              "      <td>0.753851</td>\n",
              "      <td>0.650792</td>\n",
              "      <td>0.720441</td>\n",
              "      <td>0.752308</td>\n",
              "      <td>0.813847</td>\n",
              "      <td>0.690120</td>\n",
              "      <td>0.685244</td>\n",
              "      <td>0.632990</td>\n",
              "      <td>0.688632</td>\n",
              "      <td>0.676820</td>\n",
              "      <td>0.639733</td>\n",
              "      <td>0.708132</td>\n",
              "      <td>0.675063</td>\n",
              "      <td>0.646640</td>\n",
              "      <td>0.635341</td>\n",
              "      <td>0.670459</td>\n",
              "      <td>0.732434</td>\n",
              "      <td>0.866642</td>\n",
              "      <td>0.845284</td>\n",
              "      <td>1.045767</td>\n",
              "      <td>1.429693</td>\n",
              "      <td>1.783791</td>\n",
              "      <td>1.697750</td>\n",
              "      <td>1.492639</td>\n",
              "      <td>1.378843</td>\n",
              "      <td>1.218185</td>\n",
              "      <td>1.258419</td>\n",
              "      <td>1.907529</td>\n",
              "      <td>2.280888</td>\n",
              "      <td>1.895242</td>\n",
              "      <td>1.437702</td>\n",
              "      <td>1.193433</td>\n",
              "      <td>1.261335</td>\n",
              "      <td>1.150449</td>\n",
              "      <td>0.804932</td>\n",
              "      <td>0.0</td>\n",
              "    </tr>\n",
              "    <tr>\n",
              "      <th>4997</th>\n",
              "      <td>-1.351779</td>\n",
              "      <td>-2.209006</td>\n",
              "      <td>-2.520225</td>\n",
              "      <td>-3.061475</td>\n",
              "      <td>-3.065141</td>\n",
              "      <td>-3.030739</td>\n",
              "      <td>-2.622720</td>\n",
              "      <td>-2.044092</td>\n",
              "      <td>-1.295874</td>\n",
              "      <td>-0.733839</td>\n",
              "      <td>-0.562769</td>\n",
              "      <td>-0.461068</td>\n",
              "      <td>-0.310064</td>\n",
              "      <td>-0.004490</td>\n",
              "      <td>0.184161</td>\n",
              "      <td>0.252896</td>\n",
              "      <td>0.302077</td>\n",
              "      <td>0.237223</td>\n",
              "      <td>0.304171</td>\n",
              "      <td>0.276120</td>\n",
              "      <td>0.330877</td>\n",
              "      <td>0.356674</td>\n",
              "      <td>0.323301</td>\n",
              "      <td>0.413409</td>\n",
              "      <td>0.366606</td>\n",
              "      <td>0.328516</td>\n",
              "      <td>0.358460</td>\n",
              "      <td>0.353359</td>\n",
              "      <td>0.451590</td>\n",
              "      <td>0.419948</td>\n",
              "      <td>0.330580</td>\n",
              "      <td>0.317684</td>\n",
              "      <td>0.270813</td>\n",
              "      <td>0.258002</td>\n",
              "      <td>0.317464</td>\n",
              "      <td>0.358579</td>\n",
              "      <td>0.295808</td>\n",
              "      <td>0.276734</td>\n",
              "      <td>0.230999</td>\n",
              "      <td>0.173353</td>\n",
              "      <td>...</td>\n",
              "      <td>0.802243</td>\n",
              "      <td>0.803918</td>\n",
              "      <td>0.826138</td>\n",
              "      <td>0.774642</td>\n",
              "      <td>0.637822</td>\n",
              "      <td>0.747995</td>\n",
              "      <td>0.762681</td>\n",
              "      <td>0.807652</td>\n",
              "      <td>0.816406</td>\n",
              "      <td>0.818481</td>\n",
              "      <td>0.900709</td>\n",
              "      <td>0.876553</td>\n",
              "      <td>0.861227</td>\n",
              "      <td>0.764280</td>\n",
              "      <td>0.628381</td>\n",
              "      <td>0.485624</td>\n",
              "      <td>0.462129</td>\n",
              "      <td>0.442520</td>\n",
              "      <td>0.402201</td>\n",
              "      <td>0.380095</td>\n",
              "      <td>0.289096</td>\n",
              "      <td>0.214385</td>\n",
              "      <td>0.106227</td>\n",
              "      <td>-0.009595</td>\n",
              "      <td>-0.025391</td>\n",
              "      <td>0.035677</td>\n",
              "      <td>-0.030661</td>\n",
              "      <td>-0.203568</td>\n",
              "      <td>-0.445023</td>\n",
              "      <td>-0.896575</td>\n",
              "      <td>-1.512234</td>\n",
              "      <td>-2.076075</td>\n",
              "      <td>-2.586042</td>\n",
              "      <td>-3.322799</td>\n",
              "      <td>-3.627311</td>\n",
              "      <td>-3.437038</td>\n",
              "      <td>-2.260023</td>\n",
              "      <td>-1.577823</td>\n",
              "      <td>-0.684531</td>\n",
              "      <td>0.0</td>\n",
              "    </tr>\n",
              "  </tbody>\n",
              "</table>\n",
              "<p>4998 rows × 141 columns</p>\n",
              "</div>"
            ],
            "text/plain": [
              "           0         1         2         3    ...       137       138       139  140\n",
              "0    -0.112522 -2.827204 -3.773897 -4.349751  ...  0.123431  0.925286  0.193137  1.0\n",
              "1    -1.100878 -3.996840 -4.285843 -4.506579  ...  0.773820  1.119621 -1.436250  1.0\n",
              "2    -0.567088 -2.593450 -3.874230 -4.584095  ...  0.321097  0.904227 -0.421797  1.0\n",
              "3     0.490473 -1.914407 -3.616364 -4.318823  ...  1.086798  1.403011 -0.383564  1.0\n",
              "4     0.800232 -0.874252 -2.384761 -3.973292  ...  0.971020  1.614392  1.421456  1.0\n",
              "...        ...       ...       ...       ...  ...       ...       ...       ...  ...\n",
              "4993  0.608558 -0.335651 -0.990948 -1.784153  ...  1.688542  1.629593  1.342651  0.0\n",
              "4994 -2.060402 -2.860116 -3.405074 -3.748719  ...  1.696818  1.483832  1.047612  0.0\n",
              "4995 -1.122969 -2.252925 -2.867628 -3.358605  ... -2.874136 -2.008369 -1.808334  0.0\n",
              "4996 -0.547705 -1.889545 -2.839779 -3.457912  ...  1.261335  1.150449  0.804932  0.0\n",
              "4997 -1.351779 -2.209006 -2.520225 -3.061475  ... -2.260023 -1.577823 -0.684531  0.0\n",
              "\n",
              "[4998 rows x 141 columns]"
            ]
          },
          "metadata": {},
          "execution_count": 48
        }
      ]
    },
    {
      "cell_type": "code",
      "metadata": {
        "id": "thIcJp5qMVXR"
      },
      "source": [
        "raw_data=df.values"
      ],
      "execution_count": null,
      "outputs": []
    },
    {
      "cell_type": "markdown",
      "metadata": {
        "id": "CtovsSYmMe1c"
      },
      "source": [
        "## 데이터의 형태 파악"
      ]
    },
    {
      "cell_type": "code",
      "metadata": {
        "colab": {
          "base_uri": "https://localhost:8080/",
          "height": 256
        },
        "id": "4tlqcP34MhCs",
        "outputId": "8cd0d383-c61e-4244-a526-45a8d35a31d6"
      },
      "source": [
        "plt.figure(figsize=(20,4))\n",
        "for i in range(10):\n",
        "    ax = plt.subplot(2,5,i+1)\n",
        "    plt.plot(df.values[i][:-1])"
      ],
      "execution_count": null,
      "outputs": [
        {
          "output_type": "display_data",
          "data": {
            "image/png": "[encoded data removed]",
            "text/plain": [
              "<Figure size 1440x288 with 10 Axes>"
            ]
          },
          "metadata": {
            "needs_background": "light"
          }
        }
      ]
    },
    {
      "cell_type": "markdown",
      "metadata": {
        "id": "-ckH6RebNKGp"
      },
      "source": [
        "## 레이블과 데이터 분리"
      ]
    },
    {
      "cell_type": "code",
      "metadata": {
        "id": "zLcmy89VNOIq"
      },
      "source": [
        "labels = raw_data[:,-1] #이상치 정답\n",
        "data = raw_data[:,0:-1] #원래 데이터"
      ],
      "execution_count": null,
      "outputs": []
    },
    {
      "cell_type": "code",
      "metadata": {
        "id": "B1HCWkipNXKD"
      },
      "source": [
        "train_data, test_data, train_labels, test_labels = train_test_split(\n",
        "    data, labels, test_size=0.2, random_state=21\n",
        ")"
      ],
      "execution_count": null,
      "outputs": []
    },
    {
      "cell_type": "code",
      "metadata": {
        "id": "4Ury4kvXSjiV"
      },
      "source": [
        "min_val = train_data.max()\n",
        "max_val = train_data.min()\n",
        "\n",
        "train_data = (train_data - min_val) / (max_val - min_val)\n",
        "test_data = (test_data - min_val) / (max_val - min_val)\n"
      ],
      "execution_count": null,
      "outputs": []
    },
    {
      "cell_type": "code",
      "metadata": {
        "id": "SXVHXOU-OFwI"
      },
      "source": [
        "train_labels = train_labels.astype(bool)\n",
        "test_labels = test_labels.astype(bool)\n",
        "\n",
        "normal_train_data = train_data[train_labels] #정상데이터 (훈련)\n",
        "normal_test_data = test_data[test_labels] #정상데이터 (테스팅)\n",
        "\n",
        "anomalous_train_data = train_data[~train_labels] #비정상 데이터 (훈련)\n",
        "anomalous_test_data = test_data[~test_labels] #비정상 데이터(테스팅)\n"
      ],
      "execution_count": null,
      "outputs": []
    },
    {
      "cell_type": "code",
      "metadata": {
        "colab": {
          "base_uri": "https://localhost:8080/",
          "height": 281
        },
        "id": "Dj98xDdgOYJA",
        "outputId": "4c11aa6b-5169-47bc-8f8a-7be6b72f6ec6"
      },
      "source": [
        "plt.grid()\n",
        "plt.plot(np.arange(140), normal_train_data[0])\n",
        "plt.title(\"A Normal ECG\")\n",
        "plt.show()"
      ],
      "execution_count": null,
      "outputs": [
        {
          "output_type": "display_data",
          "data": {
            "image/png": "[encoded data removed]",
            "text/plain": [
              "<Figure size 432x288 with 1 Axes>"
            ]
          },
          "metadata": {
            "needs_background": "light"
          }
        }
      ]
    },
    {
      "cell_type": "code",
      "metadata": {
        "colab": {
          "base_uri": "https://localhost:8080/",
          "height": 281
        },
        "id": "y9haN6TQO2Aq",
        "outputId": "0eb7b5c1-6f48-4747-a1fc-3b9ed214c162"
      },
      "source": [
        "plt.grid()\n",
        "plt.plot(np.arange(140), anomalous_train_data[0])\n",
        "plt.title(\"An Anomalous ECG\")\n",
        "plt.show()"
      ],
      "execution_count": null,
      "outputs": [
        {
          "output_type": "display_data",
          "data": {
            "image/png": "[encoded data removed]",
            "text/plain": [
              "<Figure size 432x288 with 1 Axes>"
            ]
          },
          "metadata": {
            "needs_background": "light"
          }
        }
      ]
    },
    {
      "cell_type": "markdown",
      "metadata": {
        "id": "XOyZ-dzEPMqs"
      },
      "source": [
        "## 오토인코더를 이상치 탐지에 활용"
      ]
    },
    {
      "cell_type": "code",
      "metadata": {
        "id": "Jt9KpOiSPQFv"
      },
      "source": [
        "class AnomalyDetecor(Model):\n",
        "    def __init__(self):\n",
        "        super(AnomalyDetecor, self).__init__()\n",
        "        self.encoder = tf.keras.Sequential([\n",
        "                                            layers.Dense(32,activation='relu'),\n",
        "                                            layers.Dense(16,activation='relu'),\n",
        "                                            layers.Dense(8,activation='relu')])\n",
        "        self.decoder = tf.keras.Sequential([\n",
        "                                            layers.Dense(16,activation='relu'),\n",
        "                                            layers.Dense(32,activation='relu'),\n",
        "                                            layers.Dense(140,activation='sigmoid')])\n",
        "    \n",
        "    def call(self, x):\n",
        "        encoded = self.encoder(x)\n",
        "        decoded = self.decoder(encoded)\n",
        "        return decoded"
      ],
      "execution_count": null,
      "outputs": []
    },
    {
      "cell_type": "code",
      "metadata": {
        "id": "83dEFpbSP_nI"
      },
      "source": [
        "autoencoder = AnomalyDetecor()\n",
        "autoencoder.compile(optimizer='adam',loss='mae') # mean absolute error "
      ],
      "execution_count": null,
      "outputs": []
    },
    {
      "cell_type": "code",
      "metadata": {
        "colab": {
          "base_uri": "https://localhost:8080/"
        },
        "id": "LqgbbAvRQOcj",
        "outputId": "cf6b8b8d-5a24-485c-f03e-89194235d611"
      },
      "source": [
        "history = autoencoder.fit(normal_train_data, normal_train_data, \n",
        "          epochs=20, \n",
        "          batch_size=512,\n",
        "          validation_data=(test_data, test_data),\n",
        "          shuffle=True)"
      ],
      "execution_count": null,
      "outputs": [
        {
          "output_type": "stream",
          "name": "stdout",
          "text": [
            "Epoch 1/20\n",
            "5/5 [==============================] - 1s 59ms/step - loss: 0.0593 - val_loss: 0.0538\n",
            "Epoch 2/20\n",
            "5/5 [==============================] - 0s 11ms/step - loss: 0.0568 - val_loss: 0.0527\n",
            "Epoch 3/20\n",
            "5/5 [==============================] - 0s 12ms/step - loss: 0.0551 - val_loss: 0.0515\n",
            "Epoch 4/20\n",
            "5/5 [==============================] - 0s 11ms/step - loss: 0.0528 - val_loss: 0.0501\n",
            "Epoch 5/20\n",
            "5/5 [==============================] - 0s 11ms/step - loss: 0.0499 - val_loss: 0.0489\n",
            "Epoch 6/20\n",
            "5/5 [==============================] - 0s 11ms/step - loss: 0.0469 - val_loss: 0.0472\n",
            "Epoch 7/20\n",
            "5/5 [==============================] - 0s 11ms/step - loss: 0.0437 - val_loss: 0.0452\n",
            "Epoch 8/20\n",
            "5/5 [==============================] - 0s 12ms/step - loss: 0.0403 - val_loss: 0.0434\n",
            "Epoch 9/20\n",
            "5/5 [==============================] - 0s 12ms/step - loss: 0.0372 - val_loss: 0.0419\n",
            "Epoch 10/20\n",
            "5/5 [==============================] - 0s 12ms/step - loss: 0.0344 - val_loss: 0.0408\n",
            "Epoch 11/20\n",
            "5/5 [==============================] - 0s 11ms/step - loss: 0.0321 - val_loss: 0.0396\n",
            "Epoch 12/20\n",
            "5/5 [==============================] - 0s 13ms/step - loss: 0.0301 - val_loss: 0.0387\n",
            "Epoch 13/20\n",
            "5/5 [==============================] - 0s 11ms/step - loss: 0.0285 - val_loss: 0.0380\n",
            "Epoch 14/20\n",
            "5/5 [==============================] - 0s 11ms/step - loss: 0.0273 - val_loss: 0.0375\n",
            "Epoch 15/20\n",
            "5/5 [==============================] - 0s 12ms/step - loss: 0.0264 - val_loss: 0.0370\n",
            "Epoch 16/20\n",
            "5/5 [==============================] - 0s 13ms/step - loss: 0.0257 - val_loss: 0.0364\n",
            "Epoch 17/20\n",
            "5/5 [==============================] - 0s 12ms/step - loss: 0.0250 - val_loss: 0.0359\n",
            "Epoch 18/20\n",
            "5/5 [==============================] - 0s 16ms/step - loss: 0.0243 - val_loss: 0.0354\n",
            "Epoch 19/20\n",
            "5/5 [==============================] - 0s 15ms/step - loss: 0.0237 - val_loss: 0.0349\n",
            "Epoch 20/20\n",
            "5/5 [==============================] - 0s 12ms/step - loss: 0.0231 - val_loss: 0.0345\n"
          ]
        }
      ]
    },
    {
      "cell_type": "code",
      "metadata": {
        "colab": {
          "base_uri": "https://localhost:8080/",
          "height": 282
        },
        "id": "rgliQ3hGQis6",
        "outputId": "f8ff3372-b89f-491b-92af-1cf5c328b366"
      },
      "source": [
        "plt.plot(history.history[\"loss\"], label=\"Training Loss\")\n",
        "plt.plot(history.history[\"val_loss\"], label=\"Validation Loss\")\n",
        "plt.legend()"
      ],
      "execution_count": null,
      "outputs": [
        {
          "output_type": "execute_result",
          "data": {
            "text/plain": [
              "<matplotlib.legend.Legend at 0x7fc0b0e70710>"
            ]
          },
          "metadata": {},
          "execution_count": 147
        },
        {
          "output_type": "display_data",
          "data": {
            "image/png": "[encoded data removed]",
            "text/plain": [
              "<Figure size 432x288 with 1 Axes>"
            ]
          },
          "metadata": {
            "needs_background": "light"
          }
        }
      ]
    },
    {
      "cell_type": "code",
      "metadata": {
        "colab": {
          "base_uri": "https://localhost:8080/",
          "height": 265
        },
        "id": "yAxMBwdKT7Fz",
        "outputId": "deeb0b94-f169-450b-c001-14b3a2429ced"
      },
      "source": [
        "encoded_data = autoencoder.encoder(normal_test_data).numpy()\n",
        "decoded_data = autoencoder.decoder(encoded_data).numpy()\n",
        "\n",
        "plt.plot(normal_test_data[0], 'b')\n",
        "plt.plot(decoded_data[0], 'r')\n",
        "plt.fill_between(np.arange(140), decoded_data[0], normal_test_data[0], color='lightcoral')\n",
        "plt.legend(labels=[\"Input\", \"Reconstruction\", \"Error\"])\n",
        "plt.show()"
      ],
      "execution_count": null,
      "outputs": [
        {
          "output_type": "display_data",
          "data": {
            "image/png": "[encoded data removed]",
            "text/plain": [
              "<Figure size 432x288 with 1 Axes>"
            ]
          },
          "metadata": {
            "needs_background": "light"
          }
        }
      ]
    },
    {
      "cell_type": "code",
      "metadata": {
        "colab": {
          "base_uri": "https://localhost:8080/",
          "height": 265
        },
        "id": "hQl01mI9UZOI",
        "outputId": "6595fb0e-f8fd-4a9f-883a-d27318c109f7"
      },
      "source": [
        "encoded_data = autoencoder.encoder(anomalous_test_data).numpy()\n",
        "decoded_data = autoencoder.decoder(encoded_data).numpy()\n",
        "\n",
        "plt.plot(anomalous_test_data[0], 'b')\n",
        "plt.plot(decoded_data[0], 'r')\n",
        "plt.fill_between(np.arange(140), decoded_data[0], anomalous_test_data[0], color='lightcoral')\n",
        "plt.legend(labels=[\"Input\", \"Reconstruction\", \"Error\"])\n",
        "plt.show()"
      ],
      "execution_count": null,
      "outputs": [
        {
          "output_type": "display_data",
          "data": {
            "image/png": "[encoded data removed]",
            "text/plain": [
              "<Figure size 432x288 with 1 Axes>"
            ]
          },
          "metadata": {
            "needs_background": "light"
          }
        }
      ]
    },
    {
      "cell_type": "code",
      "metadata": {
        "colab": {
          "base_uri": "https://localhost:8080/",
          "height": 279
        },
        "id": "WenAFvzZUwpa",
        "outputId": "95fb804e-44b7-458f-d17c-0f4f39f293bb"
      },
      "source": [
        "reconstructions = autoencoder.predict(normal_train_data)\n",
        "train_loss = tf.keras.losses.mae(reconstructions, normal_train_data)\n",
        "\n",
        "plt.hist(train_loss[None,:], bins=50)\n",
        "plt.xlabel(\"Train loss\")\n",
        "plt.ylabel(\"No of examples\")\n",
        "plt.show()"
      ],
      "execution_count": null,
      "outputs": [
        {
          "output_type": "display_data",
          "data": {
            "image/png": "[encoded data removed]",
            "text/plain": [
              "<Figure size 432x288 with 1 Axes>"
            ]
          },
          "metadata": {
            "needs_background": "light"
          }
        }
      ]
    },
    {
      "cell_type": "code",
      "metadata": {
        "colab": {
          "base_uri": "https://localhost:8080/"
        },
        "id": "Xr9ZYZKWU-GO",
        "outputId": "3af0fa49-0868-4840-d1c6-1cfead4cddb9"
      },
      "source": [
        "threshold = np.mean(train_loss) + np.std(train_loss)\n",
        "print(\"Threshold: \", threshold)"
      ],
      "execution_count": null,
      "outputs": [
        {
          "output_type": "stream",
          "name": "stdout",
          "text": [
            "Threshold:  0.03461919437370693\n"
          ]
        }
      ]
    },
    {
      "cell_type": "code",
      "metadata": {
        "colab": {
          "base_uri": "https://localhost:8080/",
          "height": 281
        },
        "id": "n4-T_kXVVFh8",
        "outputId": "d9978cb1-7ddb-4fcc-dd7f-b936bc1084ca"
      },
      "source": [
        "reconstructions = autoencoder.predict(anomalous_test_data)\n",
        "test_loss = tf.keras.losses.mae(reconstructions, anomalous_test_data)\n",
        "\n",
        "plt.hist(test_loss[None, :], bins=50)\n",
        "plt.xlabel(\"Test loss\")\n",
        "plt.ylabel(\"No of examples\")\n",
        "plt.show()"
      ],
      "execution_count": null,
      "outputs": [
        {
          "output_type": "display_data",
          "data": {
            "image/png": "[encoded data removed]",
            "text/plain": [
              "<Figure size 432x288 with 1 Axes>"
            ]
          },
          "metadata": {
            "needs_background": "light"
          }
        }
      ]
    },
    {
      "cell_type": "code",
      "metadata": {
        "id": "c9JEsaTrVO4X"
      },
      "source": [
        "def predict(model, data, threshold):\n",
        "  reconstructions = model(data)\n",
        "  loss = tf.keras.losses.mae(reconstructions, data)\n",
        "  return tf.math.less(loss, threshold)\n",
        "\n",
        "def print_stats(predictions, labels):\n",
        "  print(\"Accuracy = {}\".format(accuracy_score(labels, predictions)))\n",
        "  print(\"Precision = {}\".format(precision_score(labels, predictions)))\n",
        "  print(\"Recall = {}\".format(recall_score(labels, predictions)))"
      ],
      "execution_count": null,
      "outputs": []
    },
    {
      "cell_type": "code",
      "metadata": {
        "id": "vbKGkNbLVUA7",
        "outputId": "1a886a99-60de-4c7a-85c7-0f1eaede6d49",
        "colab": {
          "base_uri": "https://localhost:8080/"
        }
      },
      "source": [
        "preds = predict(autoencoder, test_data, threshold)\n",
        "print_stats(preds, test_labels)"
      ],
      "execution_count": null,
      "outputs": [
        {
          "output_type": "stream",
          "name": "stdout",
          "text": [
            "Accuracy = 0.944\n",
            "Precision = 0.9921875\n",
            "Recall = 0.9071428571428571\n"
          ]
        }
      ]
    }
  ]
}