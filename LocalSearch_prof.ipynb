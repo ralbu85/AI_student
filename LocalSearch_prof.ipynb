{
 "cells": [
  {
   "cell_type": "code",
   "execution_count": 63,
   "metadata": {},
   "outputs": [],
   "source": [
    "import math\n",
    "\n",
    "class continous_local_search:\n",
    "    \n",
    "    def __init__(self, init_val, delta):\n",
    "        \n",
    "        self.opt_x=None #최적해\n",
    "        self.opt_val=None #최적해의 값\n",
    "        \n",
    "        self.current_x=init_val #초기해\n",
    "        self.current_val=self.obj_f(self.current_x) #현재해\n",
    "        \n",
    "        self.delta=delta #한번 이동시 움직이는 거리\n",
    "        self.finished=False #끝났는지 여부\n",
    "    \n",
    "    def obj_f(self,x):\n",
    "        return -1*x**5 + 2*x**4 + 4*x**3 - 3*x**2 - x\n",
    "    \n",
    "    def print_status(self):\n",
    "        print(self.current_x, self.current_val)\n",
    "        \n",
    "    def print_sol(self):\n",
    "        print(self.opt_x, self.opt_val)\n",
    "    \n",
    "    def local_search(self):\n",
    "        while not self.finished:\n",
    "            \n",
    "            left=self.current_x-self.delta            \n",
    "            right=self.current_x+self.delta\n",
    "            \n",
    "            left_check=self.current_val-self.obj_f(left)\n",
    "            right_check=self.current_val-self.obj_f(right)\n",
    "            \n",
    "                        \n",
    "            if left_check>0:\n",
    "                self.current_x=left\n",
    "                self.current_val=self.obj_f(left)\n",
    "                self.print_status()\n",
    "                \n",
    "            elif right_check>0:\n",
    "                self.current_x=right\n",
    "                self.current_val=self.obj_f(right)\n",
    "                self.print_status()\n",
    "            \n",
    "            else:\n",
    "                print('job_done')\n",
    "                break\n",
    "        self.opt_x=self.current_x\n",
    "        self.opt_val=self.current_val\n",
    "        self.print_sol()\n",
    "\n",
    "        pass\n",
    "    "
   ]
  },
  {
   "cell_type": "code",
   "execution_count": 65,
   "metadata": {},
   "outputs": [
    {
     "name": "stdout",
     "output_type": "stream",
     "text": [
      "1.95 17.0249503125\n",
      "1.9 16.009210000000003\n",
      "1.8499999999999999 14.966025937499998\n",
      "1.7999999999999998 13.907519999999995\n",
      "1.7499999999999998 12.844726562499996\n",
      "1.6999999999999997 11.787629999999993\n",
      "1.6499999999999997 10.74520218749999\n",
      "1.5999999999999996 9.725439999999994\n",
      "1.5499999999999996 8.735402812499993\n",
      "1.4999999999999996 7.781249999999989\n",
      "1.4499999999999995 6.86827843749999\n",
      "1.3999999999999995 6.000959999999991\n",
      "1.3499999999999994 5.1829790624999905\n",
      "1.2999999999999994 4.417269999999991\n",
      "1.2499999999999993 3.706054687499991\n",
      "1.1999999999999993 3.0508799999999905\n",
      "1.1499999999999992 2.4526553124999912\n",
      "1.0999999999999992 1.9116899999999917\n",
      "1.0499999999999992 1.4277309374999925\n",
      "0.9999999999999991 0.9999999999999929\n",
      "0.9499999999999991 0.6272315624999931\n",
      "0.899999999999999 0.3077099999999944\n",
      "0.849999999999999 0.03930718749999529\n",
      "0.7999999999999989 -0.18048000000000464\n",
      "0.7499999999999989 -0.3544921875000038\n",
      "0.6999999999999988 -0.48587000000000247\n",
      "0.6499999999999988 -0.5780165625000018\n",
      "0.5999999999999988 -0.6345600000000009\n",
      "0.5499999999999987 -0.6593159375000003\n",
      "job_done\n",
      "0.5499999999999987 -0.6593159375000003\n"
     ]
    }
   ],
   "source": [
    "agent=continous_local_search(2,0.05)\n",
    "agent.local_search()"
   ]
  },
  {
   "cell_type": "code",
   "execution_count": 28,
   "metadata": {},
   "outputs": [
    {
     "data": {
      "text/plain": [
       "-0.58304"
      ]
     },
     "execution_count": 28,
     "metadata": {},
     "output_type": "execute_result"
    }
   ],
   "source": [
    "agent.obj_f(0.4)"
   ]
  }
 ],
 "metadata": {
  "kernelspec": {
   "display_name": "Python 3",
   "language": "python",
   "name": "python3"
  },
  "language_info": {
   "codemirror_mode": {
    "name": "ipython",
    "version": 3
   },
   "file_extension": ".py",
   "mimetype": "text/x-python",
   "name": "python",
   "nbconvert_exporter": "python",
   "pygments_lexer": "ipython3",
   "version": "3.6.7"
  }
 },
 "nbformat": 4,
 "nbformat_minor": 2
}
