{
 "cells": [
  {
   "cell_type": "code",
   "execution_count": 1,
   "metadata": {},
   "outputs": [],
   "source": [
    "# 여행자가 도달할 수 있는 state\n",
    "route_states=['JR','KBG','SCD','DHR','CMR','GN','SC',\n",
    "'DDM','DAD','BHS','MD','SRM','SSU','SD','SSD','AGJ','CD','JS','GRD']\n",
    "\n",
    "# 각 state에서 취할 수 있는 행동과 cost\n",
    "route_actions = {'JR':{'KBG':75, 'DHR':140, 'MD':118},\n",
    "    'KBG':{'JR':75, 'SCD':71},\n",
    "    'SCD':{'KBG':71, 'DHR':151},\n",
    "    'DHR':{'JR':140, 'SCD':151, 'SSD':80,\n",
    "    'CMR':99},\n",
    "    'CMR':{'DHR':99, 'GN':211},\n",
    "    'GN':{'AGJ':101, 'CD':90, 'SC':85},\n",
    "    'SC':{'GN':85, 'JS':98, 'DDM':142},\n",
    "    'DDM':{'DAD':92, 'SC':142},\n",
    "    'DAD':{'DDM':92, 'BHS':87},\n",
    "    'BHS':{'DAD':87},\n",
    "    'MD':{'JR':118,'SRM':111},\n",
    "    'SRM':{'MD':111,'SSU':145},\n",
    "    'SSU':{'SRM':145,'SD':120},\n",
    "    'SD':{'SSU':120,'SSD':146,'AGJ':138},\n",
    "    'SSD':{'DHR':80, 'SD':146, 'AGJ':97},\n",
    "    'AGJ':{'SSD':97, 'SD':138, 'GN':101},\n",
    "    'CD':{'GN':90},\n",
    "    'JS':{'SC':98, 'GRD':86},\n",
    "    'GRD':{'JS':86}}\n",
    "\n",
    "#각state에서 강남까지의 직선거리 (주어진 것임)\n",
    "dist_to_gn = { # heuristic evaluation function for a state\n",
    "'JR':366, 'KBG':374, 'SCD':380, 'DHR':253, 'CMR':176, 'GN':0,\n",
    "'SC':80, 'DDM':220, 'DAD':310, 'BHS':360, 'MD':329, 'SRM':340,\n",
    "'SSU':280, 'SD':160, 'SSD':193, 'AGJ':100, 'CD':85, 'JS':170,'GRD':200}"
   ]
  },
  {
   "cell_type": "code",
   "execution_count": 31,
   "metadata": {},
   "outputs": [],
   "source": [
    "import numpy as np\n",
    "\n",
    "class agent:    \n",
    "    def __init__(self, initial_state, goal_state):\n",
    "        self.goal_state=goal_state\n",
    "        self.graph={0:{'depth':0,'state':initial_state,'parent':None,'cost':0}}\n",
    "        self.n_node=0                    \n",
    "        self.fringe=[0]\n",
    "        self.visited=[]\n",
    "        self.finished=False\n",
    "    \n",
    "    def get_child_node(self,gid):\n",
    "        result=[]\n",
    "        city=self.graph[gid]['state'] #선택한 노드 아이디의 도시 선택\n",
    "        child_cities=route_actions[city].keys() #선택한 노드에서 펼칠수 있는 도시들\n",
    "        for child in child_cities:\n",
    "            child_node={}\n",
    "            child_node['depth']=self.graph[gid]['depth']+1\n",
    "            child_node['state']=child\n",
    "            child_node['parent']=gid\n",
    "            child_node['cost']=self.graph[gid]['cost']+route_actions[city][child]\n",
    "            result.append(child_node)\n",
    "        return result\n",
    "    \n",
    "    \n",
    "    def expansion(self,gid):\n",
    "        if self.graph[gid]['state'] in self.get_path(gid):\n",
    "            print('already in path')\n",
    "            self.fringe.remove(gid)\n",
    "            self.visited.append(gid)\n",
    "        \n",
    "        else:\n",
    "            #remove from fringe\n",
    "            self.fringe.remove(gid)\n",
    "            self.visited.append(gid)\n",
    "            \n",
    "            if self.graph[gid]['state']==self.goal_state:\n",
    "                print('Job done')\n",
    "                self.finished=True\n",
    "            else:            \n",
    "                #get children from gid\n",
    "                children=self.get_child_node(gid)            \n",
    "                for child in children:\n",
    "                    #insert graph\n",
    "                    self.n_node+=1\n",
    "                    self.graph[self.n_node]=child           \n",
    "                    #insert fringe\n",
    "                    self.fringe.append(self.n_node)\n",
    "    \n",
    "    def greedy(self):\n",
    "        pass         \n",
    "    \n",
    "    def astar(self):   \n",
    "        pass\n",
    "    \n",
    "    \n",
    "    def get_path(self,gid):\n",
    "        result=[]\n",
    "        parent=self.graph[gid]['parent']     \n",
    "        while parent!=None:\n",
    "            result.append(self.graph[parent]['state'])\n",
    "            parent=self.graph[parent]['parent']\n",
    "        return result    \n",
    "    \n",
    "    def print_state(self):\n",
    "        print('fringe:',self.fringe)\n",
    "        print('visited:',self.visited)"
   ]
  },
  {
   "cell_type": "code",
   "execution_count": 35,
   "metadata": {},
   "outputs": [],
   "source": [
    "my_agent=agent('JR','GN')"
   ]
  },
  {
   "cell_type": "code",
   "execution_count": 36,
   "metadata": {},
   "outputs": [
    {
     "name": "stdout",
     "output_type": "stream",
     "text": [
      "Job done\n"
     ]
    }
   ],
   "source": [
    "my_agent.greedy()"
   ]
  },
  {
   "cell_type": "code",
   "execution_count": 37,
   "metadata": {},
   "outputs": [
    {
     "data": {
      "text/plain": [
       "{0: {'depth': 0, 'state': 'JR', 'parent': None, 'cost': 0},\n",
       " 1: {'depth': 1, 'state': 'KBG', 'parent': 0, 'cost': 75},\n",
       " 2: {'depth': 1, 'state': 'DHR', 'parent': 0, 'cost': 140},\n",
       " 3: {'depth': 1, 'state': 'MD', 'parent': 0, 'cost': 118},\n",
       " 4: {'depth': 2, 'state': 'JR', 'parent': 2, 'cost': 280},\n",
       " 5: {'depth': 2, 'state': 'SCD', 'parent': 2, 'cost': 291},\n",
       " 6: {'depth': 2, 'state': 'SSD', 'parent': 2, 'cost': 220},\n",
       " 7: {'depth': 2, 'state': 'CMR', 'parent': 2, 'cost': 239},\n",
       " 8: {'depth': 3, 'state': 'DHR', 'parent': 7, 'cost': 338},\n",
       " 9: {'depth': 3, 'state': 'GN', 'parent': 7, 'cost': 450}}"
      ]
     },
     "execution_count": 37,
     "metadata": {},
     "output_type": "execute_result"
    }
   ],
   "source": [
    "my_agent.graph"
   ]
  },
  {
   "cell_type": "code",
   "execution_count": 32,
   "metadata": {},
   "outputs": [],
   "source": [
    "my_agent=agent('JR','GN')"
   ]
  },
  {
   "cell_type": "code",
   "execution_count": 33,
   "metadata": {},
   "outputs": [
    {
     "name": "stdout",
     "output_type": "stream",
     "text": [
      "Job done\n"
     ]
    }
   ],
   "source": [
    "my_agent.astar()"
   ]
  },
  {
   "cell_type": "code",
   "execution_count": 34,
   "metadata": {},
   "outputs": [
    {
     "data": {
      "text/plain": [
       "{0: {'depth': 0, 'state': 'JR', 'parent': None, 'cost': 0},\n",
       " 1: {'depth': 1, 'state': 'KBG', 'parent': 0, 'cost': 75},\n",
       " 2: {'depth': 1, 'state': 'DHR', 'parent': 0, 'cost': 140},\n",
       " 3: {'depth': 1, 'state': 'MD', 'parent': 0, 'cost': 118},\n",
       " 4: {'depth': 2, 'state': 'JR', 'parent': 2, 'cost': 280},\n",
       " 5: {'depth': 2, 'state': 'SCD', 'parent': 2, 'cost': 291},\n",
       " 6: {'depth': 2, 'state': 'SSD', 'parent': 2, 'cost': 220},\n",
       " 7: {'depth': 2, 'state': 'CMR', 'parent': 2, 'cost': 239},\n",
       " 8: {'depth': 3, 'state': 'DHR', 'parent': 6, 'cost': 300},\n",
       " 9: {'depth': 3, 'state': 'SD', 'parent': 6, 'cost': 366},\n",
       " 10: {'depth': 3, 'state': 'AGJ', 'parent': 6, 'cost': 317},\n",
       " 11: {'depth': 3, 'state': 'DHR', 'parent': 7, 'cost': 338},\n",
       " 12: {'depth': 3, 'state': 'GN', 'parent': 7, 'cost': 450},\n",
       " 13: {'depth': 4, 'state': 'SSD', 'parent': 10, 'cost': 414},\n",
       " 14: {'depth': 4, 'state': 'SD', 'parent': 10, 'cost': 455},\n",
       " 15: {'depth': 4, 'state': 'GN', 'parent': 10, 'cost': 418}}"
      ]
     },
     "execution_count": 34,
     "metadata": {},
     "output_type": "execute_result"
    }
   ],
   "source": [
    "my_agent.graph"
   ]
  }
 ],
 "metadata": {
  "kernelspec": {
   "display_name": "Python 3",
   "language": "python",
   "name": "python3"
  },
  "language_info": {
   "codemirror_mode": {
    "name": "ipython",
    "version": 3
   },
   "file_extension": ".py",
   "mimetype": "text/x-python",
   "name": "python",
   "nbconvert_exporter": "python",
   "pygments_lexer": "ipython3",
   "version": "3.6.7"
  }
 },
 "nbformat": 4,
 "nbformat_minor": 2
}
