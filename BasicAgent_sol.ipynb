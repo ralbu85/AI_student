{
 "cells": [
  {
   "cell_type": "code",
   "execution_count": 1,
   "metadata": {},
   "outputs": [],
   "source": [
    "# 여행자가 도달할 수 있는 state\n",
    "route_states=['JR','KBG','SCD','DHR','CMR','GN','SC',\n",
    "'DDM','DAD','BHS','MD','SRM','SSU','SD','SSD','AGJ','CD','JS','GRD']\n",
    "\n",
    "import collections\n",
    "route_actions=collections.OrderedDict()\n",
    "\n",
    "# 각 state에서 취할 수 있는 행동과 cost\n",
    "route_actions = {'JR':{'KBG':75, 'DHR':140, 'MD':118},\n",
    "    'KBG':{'JR':75, 'SCD':71},\n",
    "    'SCD':{'KBG':71, 'DHR':151},\n",
    "    'DHR':{'JR':140, 'SCD':151, 'SSD':80,\n",
    "    'CMR':99},\n",
    "    'CMR':{'DHR':99, 'GN':211},\n",
    "    'GN':{'AGJ':101, 'CD':90, 'SC':85},\n",
    "    'SC':{'GN':85, 'JS':98, 'DDM':142},\n",
    "    'DDM':{'DAD':92, 'SC':142},\n",
    "    'DAD':{'DDM':92, 'BHS':87},\n",
    "    'BHS':{'DAD':87},\n",
    "    'MD':{'JR':118,'SRM':111},\n",
    "    'SRM':{'MD':111,'SSU':145},\n",
    "    'SSU':{'SRM':145,'SD':120},\n",
    "    'SD':{'SSU':120,'SSD':146,'AGJ':138},\n",
    "    'SSD':{'DHR':80, 'SD':146, 'AGJ':97},\n",
    "    'AGJ':{'SSD':97, 'SD':138, 'GN':101},\n",
    "    'CD':{'GN':90},\n",
    "    'JS':{'SC':98, 'GRD':86},\n",
    "    'GRD':{'JS':86}}"
   ]
  },
  {
   "cell_type": "code",
   "execution_count": 2,
   "metadata": {},
   "outputs": [],
   "source": [
    "class agent:    \n",
    "    def __init__(self, initial_state, goal_state):\n",
    "        self.goal_state=goal_state #목표도시\n",
    "        self.graph={0:{'depth':0,'state':initial_state,'parent':None,'cost':0}} # 그래프구조\n",
    "        self.n_node=0 # 그래프에 추가된 마지막 노드 번호                   \n",
    "        self.fringe=[0] # 프린지 (첫번째 노드는 무조건 추가)\n",
    "        self.visited=[] # 방문한 노드\n",
    "        self.finished=False # 목표를 찾았는지 여부\n",
    "        self.solution=None\n",
    "    \n",
    "    def get_child_node(self,gid):\n",
    "        result=[]\n",
    "        city=self.graph[gid]['state'] #선택한 노드 아이디의 도시 선택\n",
    "        child_cities=route_actions[city].keys() #선택한 노드에서 펼칠수 있는 도시들\n",
    "        for child in child_cities:\n",
    "            child_node={}\n",
    "            child_node['depth']=self.graph[gid]['depth']+1\n",
    "            child_node['state']=child\n",
    "            child_node['parent']=gid\n",
    "            child_node['cost']=self.graph[gid]['cost']+route_actions[city][child]\n",
    "            result.append(child_node)\n",
    "        return result    \n",
    "    \n",
    "    def expansion(self,gid):        \n",
    "        if gid in self.fringe:\n",
    "            #remove from fringe\n",
    "            self.fringe.remove(gid)\n",
    "            self.visited.append(gid)\n",
    "            \n",
    "            if self.graph[gid]['state']==self.goal_state:\n",
    "                print('Job done')\n",
    "                self.finished=True\n",
    "                self.solution=(gid,self.graph[gid])\n",
    "            else:            \n",
    "                #get children from gid\n",
    "                children=self.get_child_node(gid)            \n",
    "                for child in children:\n",
    "                    #insert graph\n",
    "                    self.n_node+=1\n",
    "                    self.graph[self.n_node]=child           \n",
    "                    #insert fringe\n",
    "                    self.fringe.append(self.n_node)\n",
    "        else:\n",
    "            print('only nodes in fringe can be expanded')\n",
    "    \n",
    "    def get_path(self,gid):\n",
    "        result=[]\n",
    "        parent=self.graph[gid]['parent']     \n",
    "        while parent!=None:\n",
    "            result.append(self.graph[parent]['state'])\n",
    "            parent=self.graph[parent]['parent']\n",
    "        return result\n",
    "    \n",
    "    def print_state(self):\n",
    "        print('graph:',self.graph)\n",
    "        print('fringe:',self.fringe)\n",
    "        print('visited:',self.visited)\n",
    "        print('n_node:', self.n_node)\n",
    "        print('finished:', self.finished)\n",
    "        "
   ]
  },
  {
   "cell_type": "code",
   "execution_count": 3,
   "metadata": {},
   "outputs": [
    {
     "name": "stdout",
     "output_type": "stream",
     "text": [
      "graph: {0: {'depth': 0, 'state': 'JR', 'parent': None, 'cost': 0}}\n",
      "fringe: [0]\n",
      "visited: []\n",
      "n_node: 0\n",
      "finished: False\n"
     ]
    }
   ],
   "source": [
    "my_agent=agent('JR','GN')\n",
    "my_agent.print_state()"
   ]
  },
  {
   "cell_type": "code",
   "execution_count": 4,
   "metadata": {},
   "outputs": [
    {
     "data": {
      "text/plain": [
       "[{'depth': 1, 'state': 'KBG', 'parent': 0, 'cost': 75},\n",
       " {'depth': 1, 'state': 'DHR', 'parent': 0, 'cost': 140},\n",
       " {'depth': 1, 'state': 'MD', 'parent': 0, 'cost': 118}]"
      ]
     },
     "execution_count": 4,
     "metadata": {},
     "output_type": "execute_result"
    }
   ],
   "source": [
    "my_agent.get_child_node(0)"
   ]
  },
  {
   "cell_type": "code",
   "execution_count": 5,
   "metadata": {},
   "outputs": [
    {
     "name": "stdout",
     "output_type": "stream",
     "text": [
      "graph: {0: {'depth': 0, 'state': 'JR', 'parent': None, 'cost': 0}, 1: {'depth': 1, 'state': 'KBG', 'parent': 0, 'cost': 75}, 2: {'depth': 1, 'state': 'DHR', 'parent': 0, 'cost': 140}, 3: {'depth': 1, 'state': 'MD', 'parent': 0, 'cost': 118}}\n",
      "fringe: [1, 2, 3]\n",
      "visited: [0]\n",
      "n_node: 3\n",
      "finished: False\n"
     ]
    }
   ],
   "source": [
    "my_agent.expansion(0)\n",
    "my_agent.print_state()"
   ]
  },
  {
   "cell_type": "code",
   "execution_count": 6,
   "metadata": {},
   "outputs": [
    {
     "name": "stdout",
     "output_type": "stream",
     "text": [
      "graph: {0: {'depth': 0, 'state': 'JR', 'parent': None, 'cost': 0}, 1: {'depth': 1, 'state': 'KBG', 'parent': 0, 'cost': 75}, 2: {'depth': 1, 'state': 'DHR', 'parent': 0, 'cost': 140}, 3: {'depth': 1, 'state': 'MD', 'parent': 0, 'cost': 118}, 4: {'depth': 2, 'state': 'JR', 'parent': 2, 'cost': 280}, 5: {'depth': 2, 'state': 'SCD', 'parent': 2, 'cost': 291}, 6: {'depth': 2, 'state': 'SSD', 'parent': 2, 'cost': 220}, 7: {'depth': 2, 'state': 'CMR', 'parent': 2, 'cost': 239}}\n",
      "fringe: [1, 3, 4, 5, 6, 7]\n",
      "visited: [0, 2]\n",
      "n_node: 7\n",
      "finished: False\n"
     ]
    }
   ],
   "source": [
    "my_agent.expansion(2)\n",
    "my_agent.print_state()"
   ]
  },
  {
   "cell_type": "code",
   "execution_count": 7,
   "metadata": {},
   "outputs": [
    {
     "name": "stdout",
     "output_type": "stream",
     "text": [
      "graph: {0: {'depth': 0, 'state': 'JR', 'parent': None, 'cost': 0}, 1: {'depth': 1, 'state': 'KBG', 'parent': 0, 'cost': 75}, 2: {'depth': 1, 'state': 'DHR', 'parent': 0, 'cost': 140}, 3: {'depth': 1, 'state': 'MD', 'parent': 0, 'cost': 118}, 4: {'depth': 2, 'state': 'JR', 'parent': 2, 'cost': 280}, 5: {'depth': 2, 'state': 'SCD', 'parent': 2, 'cost': 291}, 6: {'depth': 2, 'state': 'SSD', 'parent': 2, 'cost': 220}, 7: {'depth': 2, 'state': 'CMR', 'parent': 2, 'cost': 239}, 8: {'depth': 3, 'state': 'DHR', 'parent': 7, 'cost': 338}, 9: {'depth': 3, 'state': 'GN', 'parent': 7, 'cost': 450}}\n",
      "fringe: [1, 3, 4, 5, 6, 8, 9]\n",
      "visited: [0, 2, 7]\n",
      "n_node: 9\n",
      "finished: False\n"
     ]
    }
   ],
   "source": [
    "my_agent.expansion(7)\n",
    "my_agent.print_state()"
   ]
  },
  {
   "cell_type": "code",
   "execution_count": 8,
   "metadata": {},
   "outputs": [
    {
     "data": {
      "text/plain": [
       "['CMR', 'DHR', 'JR']"
      ]
     },
     "execution_count": 8,
     "metadata": {},
     "output_type": "execute_result"
    }
   ],
   "source": [
    "my_agent.get_path(9)"
   ]
  }
 ],
 "metadata": {
  "kernelspec": {
   "display_name": "Python 3",
   "language": "python",
   "name": "python3"
  },
  "language_info": {
   "codemirror_mode": {
    "name": "ipython",
    "version": 3
   },
   "file_extension": ".py",
   "mimetype": "text/x-python",
   "name": "python",
   "nbconvert_exporter": "python",
   "pygments_lexer": "ipython3",
   "version": "3.6.7"
  }
 },
 "nbformat": 4,
 "nbformat_minor": 2
}
