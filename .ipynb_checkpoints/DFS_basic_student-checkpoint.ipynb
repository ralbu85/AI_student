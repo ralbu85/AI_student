{
 "cells": [
  {
   "cell_type": "code",
   "execution_count": 1,
   "metadata": {},
   "outputs": [],
   "source": [
    "# 여행자가 도달할 수 있는 state\n",
    "route_states=['JR','KBG','SCD','DHR','CMR','GN','SC',\n",
    "'DDM','DAD','BHS','MD','SRM','SSU','SD','SSD','AGJ','CD','JS','GRD']\n",
    "\n",
    "import collections\n",
    "route_actions=collections.OrderedDict()\n",
    "\n",
    "# 각 state에서 취할 수 있는 행동과 cost\n",
    "route_actions = {'JR':{'KBG':75, 'DHR':140, 'MD':118},\n",
    "    'KBG':{'JR':75, 'SCD':71},\n",
    "    'SCD':{'KBG':71, 'DHR':151},\n",
    "    'DHR':{'JR':140, 'SCD':151, 'SSD':80,\n",
    "    'CMR':99},\n",
    "    'CMR':{'DHR':99, 'GN':211},\n",
    "    'GN':{'AGJ':101, 'CD':90, 'SC':85},\n",
    "    'SC':{'GN':85, 'JS':98, 'DDM':142},\n",
    "    'DDM':{'DAD':92, 'SC':142},\n",
    "    'DAD':{'DDM':92, 'BHS':87},\n",
    "    'BHS':{'DAD':87},\n",
    "    'MD':{'JR':118,'SRM':111},\n",
    "    'SRM':{'MD':111,'SSU':145},\n",
    "    'SSU':{'SRM':145,'SD':120},\n",
    "    'SD':{'SSU':120,'SSD':146,'AGJ':138},\n",
    "    'SSD':{'DHR':80, 'SD':146, 'AGJ':97},\n",
    "    'AGJ':{'SSD':97, 'SD':138, 'GN':101},\n",
    "    'CD':{'GN':90},\n",
    "    'JS':{'SC':98, 'GRD':86},\n",
    "    'GRD':{'JS':86}}"
   ]
  },
  {
   "cell_type": "code",
   "execution_count": 2,
   "metadata": {},
   "outputs": [],
   "source": [
    "class agent:    \n",
    "    def __init__(self, initial_state, goal_state):\n",
    "        self.goal_state=goal_state\n",
    "        self.graph={0:{'depth':0,'state':initial_state,'parent':None,'cost':0}}\n",
    "        self.n_node=0                    \n",
    "        self.fringe=[0]\n",
    "        self.visited=[]\n",
    "        self.finished=False\n",
    "    \n",
    "    def get_child_node(self,gid):\n",
    "        result=[]\n",
    "        city=self.graph[gid]['state'] #선택한 노드 아이디의 도시 선택\n",
    "        child_cities=route_actions[city].keys() #선택한 노드에서 펼칠수 있는 도시들\n",
    "        for child in child_cities:\n",
    "            child_node={}\n",
    "            child_node['depth']=self.graph[gid]['depth']+1\n",
    "            child_node['state']=child\n",
    "            child_node['parent']=gid\n",
    "            child_node['cost']=self.graph[gid]['cost']+route_actions[city][child]\n",
    "            result.append(child_node)\n",
    "        return result\n",
    "    \n",
    "    \n",
    "    def expansion(self,gid):\n",
    "        if self.graph[gid]['state'] in self.get_path(gid):\n",
    "            print('already in path')\n",
    "            self.fringe.remove(gid)\n",
    "            self.visited.append(gid)\n",
    "        \n",
    "        else:\n",
    "            #remove from fringe\n",
    "            self.fringe.remove(gid)\n",
    "            self.visited.append(gid)\n",
    "            \n",
    "            if self.graph[gid]['state']==self.goal_state:\n",
    "                print('Job done')\n",
    "                self.finished=True\n",
    "                self.solution=(gid,self.graph[gid])\n",
    "            else:            \n",
    "                #get children from gid\n",
    "                children=self.get_child_node(gid)            \n",
    "                for child in children:\n",
    "                    #insert graph\n",
    "                    self.n_node+=1\n",
    "                    self.graph[self.n_node]=child           \n",
    "                    #insert fringe\n",
    "                    self.fringe.append(self.n_node)\n",
    "    \n",
    "    def dfs_search(self):\n",
    "        # 이부분을 완성하시오\n",
    "   \n",
    "    \n",
    "    def get_path(self,gid):\n",
    "        result=[]\n",
    "        parent=self.graph[gid]['parent']     \n",
    "        while parent!=None:\n",
    "            result.append(self.graph[parent]['state'])\n",
    "            parent=self.graph[parent]['parent']\n",
    "        return result\n",
    "    \n",
    "    \n",
    "    def print_state(self):\n",
    "        print('fringe:',self.fringe)\n",
    "        print('visited:',self.visited)"
   ]
  },
  {
   "cell_type": "code",
   "execution_count": 3,
   "metadata": {},
   "outputs": [],
   "source": [
    "my_agent=agent('JR','SSU')"
   ]
  },
  {
   "cell_type": "code",
   "execution_count": 4,
   "metadata": {},
   "outputs": [
    {
     "name": "stdout",
     "output_type": "stream",
     "text": [
      "fringe: [1, 2, 3]\n",
      "visited: [0]\n",
      "fringe: [1, 2, 4, 5]\n",
      "visited: [0, 3]\n",
      "fringe: [1, 2, 4, 6, 7]\n",
      "visited: [0, 3, 5]\n",
      "Job done\n",
      "fringe: [1, 2, 4, 6]\n",
      "visited: [0, 3, 5, 7]\n"
     ]
    }
   ],
   "source": [
    "my_agent.dfs_search()"
   ]
  },
  {
   "cell_type": "code",
   "execution_count": 5,
   "metadata": {},
   "outputs": [
    {
     "data": {
      "text/plain": [
       "(7, {'depth': 3, 'state': 'SSU', 'parent': 5, 'cost': 374})"
      ]
     },
     "execution_count": 5,
     "metadata": {},
     "output_type": "execute_result"
    }
   ],
   "source": [
    "my_agent.solution"
   ]
  }
 ],
 "metadata": {
  "kernelspec": {
   "display_name": "Python 3",
   "language": "python",
   "name": "python3"
  },
  "language_info": {
   "codemirror_mode": {
    "name": "ipython",
    "version": 3
   },
   "file_extension": ".py",
   "mimetype": "text/x-python",
   "name": "python",
   "nbconvert_exporter": "python",
   "pygments_lexer": "ipython3",
   "version": "3.6.7"
  }
 },
 "nbformat": 4,
 "nbformat_minor": 2
}
