{
 "cells": [
  {
   "cell_type": "code",
   "execution_count": 1,
   "metadata": {},
   "outputs": [
    {
     "data": {
      "text/plain": [
       "array([[ 0, 10, 15, 20, 13],\n",
       "       [10,  0, 20, 12, 16],\n",
       "       [15, 20,  0, 17, 11],\n",
       "       [20, 11, 17,  0, 20],\n",
       "       [13, 16, 11, 20,  0]])"
      ]
     },
     "execution_count": 1,
     "metadata": {},
     "output_type": "execute_result"
    }
   ],
   "source": [
    "import numpy as np\n",
    "dist=np.array([[0,10,15,20,13],\n",
    "             [10,0,20,12,16],\n",
    "             [15,20,0,17,11],\n",
    "             [20,11,17,0,20],\n",
    "             [13,16,11,20,0]])\n",
    "\n",
    "dist"
   ]
  },
  {
   "cell_type": "code",
   "execution_count": 10,
   "metadata": {},
   "outputs": [
    {
     "data": {
      "text/plain": [
       "5"
      ]
     },
     "execution_count": 10,
     "metadata": {},
     "output_type": "execute_result"
    }
   ],
   "source": [
    "len(dist)"
   ]
  },
  {
   "cell_type": "code",
   "execution_count": 7,
   "metadata": {},
   "outputs": [
    {
     "data": {
      "text/plain": [
       "[(0, 1, 2), (0, 2, 1), (1, 0, 2), (1, 2, 0), (2, 0, 1), (2, 1, 0)]"
      ]
     },
     "execution_count": 7,
     "metadata": {},
     "output_type": "execute_result"
    }
   ],
   "source": [
    "from itertools import permutations\n",
    "list(permutations(range(3)))"
   ]
  },
  {
   "cell_type": "code",
   "execution_count": 9,
   "metadata": {},
   "outputs": [
    {
     "data": {
      "text/plain": [
       "[(0, 1), (0, 2), (1, 2)]"
      ]
     },
     "execution_count": 9,
     "metadata": {},
     "output_type": "execute_result"
    }
   ],
   "source": [
    "from itertools import combinations\n",
    "list(combinations([0,1,2],2))"
   ]
  },
  {
   "cell_type": "code",
   "execution_count": 36,
   "metadata": {},
   "outputs": [
    {
     "name": "stdout",
     "output_type": "stream",
     "text": [
      "62 [0, 4, 2, 3, 1, 0]\n"
     ]
    }
   ],
   "source": [
    "class TSP_Bruteforce:\n",
    "    \n",
    "    def __init__(self, init_city=0):\n",
    "        self.dist=dist #dist 함수          \n",
    "        self.init_city=init_city #시작도시\n",
    "        self.finished=False #종료여부\n",
    "    \n",
    "    def gen_permutation(self):        \n",
    "        to_permute=list(range(len(dist)))\n",
    "        to_permute.remove(self.init_city)\n",
    "        result=[]\n",
    "        for i in list(permutations(to_permute)):    \n",
    "            result.append([self.init_city]+list(i)+[self.init_city])\n",
    "        return result        \n",
    "    \n",
    "    def calc_dist(self,seq): # seq->[0,1,2,3,4,0]\n",
    "        result=0\n",
    "        for i in range(len(dist)):\n",
    "            result+=self.dist[seq[i]][seq[i+1]]        \n",
    "        return result\n",
    "        \n",
    "    def brute_force(self):\n",
    "        permutation=self.gen_permutation()\n",
    "        min_path=permutation[0]\n",
    "        min_result=self.calc_dist(permutation[0])\n",
    "        for i in permutation:            \n",
    "            temp=self.calc_dist(i)\n",
    "            if min_result>temp:\n",
    "                min_result=temp\n",
    "                min_path=i\n",
    "        print(min_result, min_path)\n",
    "        pass        \n",
    "    \n",
    "agent=TSP_Bruteforce()\n",
    "agent.brute_force()"
   ]
  },
  {
   "cell_type": "code",
   "execution_count": 39,
   "metadata": {},
   "outputs": [
    {
     "name": "stdout",
     "output_type": "stream",
     "text": [
      "1 2\n",
      "1 3\n",
      "1 4\n",
      "2 3\n",
      "2 4\n",
      "3 4\n"
     ]
    }
   ],
   "source": [
    "for i,j in list(combinations([1,2,3,4],2)):\n",
    "    print(i,j)"
   ]
  },
  {
   "cell_type": "code",
   "execution_count": 52,
   "metadata": {},
   "outputs": [
    {
     "data": {
      "text/plain": [
       "([0, 1, 3, 2, 4, 0], 63)"
      ]
     },
     "execution_count": 52,
     "metadata": {},
     "output_type": "execute_result"
    }
   ],
   "source": [
    "class TSP_Localsearch:\n",
    "    \n",
    "    def __init__(self, init_city=0):\n",
    "        self.dist=dist #dist 함수          \n",
    "        self.init_city=init_city #시작도시        \n",
    "        self.finished=False #종료여부\n",
    "    \n",
    "    def gen_permutation(self):        \n",
    "        return result        \n",
    "    \n",
    "    def calc_dist(self,seq): # seq->[0,1,2,3,4,0]\n",
    "        result=0\n",
    "        for i in range(len(dist)):\n",
    "            result+=self.dist[seq[i]][seq[i+1]]        \n",
    "        return result\n",
    "    \n",
    "    def swap(self,seq,i,j):\n",
    "        temp=seq[:]\n",
    "        temp[i],temp[j]=temp[j],temp[i]\n",
    "        return temp\n",
    "    \n",
    "    def gen_candidate(self,seq):\n",
    "        result=[]\n",
    "        for i,j in list(combinations(range(1,len(dist)),2)):\n",
    "            result.append(self.swap(seq,i,j))\n",
    "        return result\n",
    "        \n",
    "    def local_search(self):\n",
    "        min_seq=[0,2,3,1,4,0]        \n",
    "        min_val=self.calc_dist(min_seq)\n",
    "        end_count=0\n",
    "        while not self.finished:\n",
    "            cand=self.gen_candidate(min_seq)\n",
    "            result=[]\n",
    "            for i in cand:\n",
    "                result.append((i,self.calc_dist(i)))\n",
    "            result.sort(key=lambda x:x[1])\n",
    "            temp_seq=result[0][0]\n",
    "            temp_val=result[0][1]\n",
    "            ## endcheck\n",
    "            if temp_val>=min_val:\n",
    "                self.finished=True\n",
    "                return (min_seq, min_val)\n",
    "            else:\n",
    "                min_seq=temp_seq\n",
    "                min_val=temp_val\n",
    "                pass        \n",
    "        \n",
    "agent=TSP_Localsearch()\n",
    "agent.local_search()"
   ]
  }
 ],
 "metadata": {
  "kernelspec": {
   "display_name": "Python 3",
   "language": "python",
   "name": "python3"
  },
  "language_info": {
   "codemirror_mode": {
    "name": "ipython",
    "version": 3
   },
   "file_extension": ".py",
   "mimetype": "text/x-python",
   "name": "python",
   "nbconvert_exporter": "python",
   "pygments_lexer": "ipython3",
   "version": "3.6.7"
  }
 },
 "nbformat": 4,
 "nbformat_minor": 2
}
