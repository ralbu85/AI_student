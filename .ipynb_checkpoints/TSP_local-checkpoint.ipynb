{
 "cells": [
  {
   "cell_type": "code",
   "execution_count": 1,
   "metadata": {},
   "outputs": [
    {
     "data": {
      "text/plain": [
       "array([[ 0, 10, 15, 20, 13],\n",
       "       [10,  0, 20, 12, 16],\n",
       "       [15, 20,  0, 17, 11],\n",
       "       [20, 11, 17,  0, 20],\n",
       "       [13, 16, 11, 20,  0]])"
      ]
     },
     "execution_count": 1,
     "metadata": {},
     "output_type": "execute_result"
    }
   ],
   "source": [
    "import numpy as np\n",
    "dist=np.array([[0,10,15,20,13],\n",
    "             [10,0,20,12,16],\n",
    "             [15,20,0,17,11],\n",
    "             [20,11,17,0,20],\n",
    "             [13,16,11,20,0]])\n",
    "\n",
    "dist"
   ]
  },
  {
   "cell_type": "code",
   "execution_count": 2,
   "metadata": {},
   "outputs": [
    {
     "data": {
      "text/plain": [
       "5"
      ]
     },
     "execution_count": 2,
     "metadata": {},
     "output_type": "execute_result"
    }
   ],
   "source": [
    "len(dist)"
   ]
  },
  {
   "cell_type": "code",
   "execution_count": 3,
   "metadata": {},
   "outputs": [
    {
     "data": {
      "text/plain": [
       "[(0, 1, 2), (0, 2, 1), (1, 0, 2), (1, 2, 0), (2, 0, 1), (2, 1, 0)]"
      ]
     },
     "execution_count": 3,
     "metadata": {},
     "output_type": "execute_result"
    }
   ],
   "source": [
    "from itertools import permutations\n",
    "list(permutations(range(3)))"
   ]
  },
  {
   "cell_type": "code",
   "execution_count": 4,
   "metadata": {},
   "outputs": [
    {
     "data": {
      "text/plain": [
       "[(0, 1), (0, 2), (1, 2)]"
      ]
     },
     "execution_count": 4,
     "metadata": {},
     "output_type": "execute_result"
    }
   ],
   "source": [
    "from itertools import combinations\n",
    "list(combinations([0,1,2],2))"
   ]
  },
  {
   "cell_type": "code",
   "execution_count": 12,
   "metadata": {},
   "outputs": [
    {
     "data": {
      "text/plain": [
       "([0, 4, 2, 3, 1, 0], 62)"
      ]
     },
     "execution_count": 12,
     "metadata": {},
     "output_type": "execute_result"
    }
   ],
   "source": [
    "class TSP_Bruteforce:\n",
    "    \n",
    "    def __init__(self, init_city=0):\n",
    "        self.dist=dist #dist 함수          \n",
    "        self.init_city=init_city #시작도시\n",
    "        self.finished=False #종료여부\n",
    "    \n",
    "    def gen_permutation(self):        \n",
    "        to_permute=list(range(len(dist)))\n",
    "        to_permute.remove(self.init_city)\n",
    "        result=[]\n",
    "        for i in list(permutations(to_permute)):    \n",
    "            result.append([self.init_city]+list(i)+[self.init_city])\n",
    "        return result        \n",
    "    \n",
    "    def calc_dist(self,seq): # seq->[0,1,2,3,4,0]\n",
    "        ### Your Code Here\n",
    "        result=0\n",
    "        for i in range(len(dist)):\n",
    "            result+=dist[seq[i]][seq[i+1]]\n",
    "        return result\n",
    "        \n",
    "    def brute_force(self):\n",
    "        ### Your Code Here\n",
    "        min_seq=None\n",
    "        min_val=9999\n",
    "        for i in self.gen_permutation():\n",
    "            temp=self.calc_dist(i)\n",
    "            if temp<min_val:\n",
    "                min_val=temp\n",
    "                min_seq=i\n",
    "        return min_seq,min_val\n",
    "        \n",
    "    \n",
    "agent=TSP_Bruteforce()\n",
    "agent.brute_force()"
   ]
  },
  {
   "cell_type": "code",
   "execution_count": 39,
   "metadata": {},
   "outputs": [
    {
     "name": "stdout",
     "output_type": "stream",
     "text": [
      "1 2\n",
      "1 3\n",
      "1 4\n",
      "2 3\n",
      "2 4\n",
      "3 4\n"
     ]
    }
   ],
   "source": [
    "for i,j in list(combinations([1,2,3,4],2)):\n",
    "    print(i,j)"
   ]
  },
  {
   "cell_type": "code",
   "execution_count": 52,
   "metadata": {},
   "outputs": [
    {
     "data": {
      "text/plain": [
       "([0, 1, 3, 2, 4, 0], 63)"
      ]
     },
     "execution_count": 52,
     "metadata": {},
     "output_type": "execute_result"
    }
   ],
   "source": [
    "class TSP_Localsearch:\n",
    "    \n",
    "    def __init__(self, init_city=0):\n",
    "        self.dist=dist #dist 함수          \n",
    "        self.init_city=init_city #시작도시        \n",
    "        self.finished=False #종료여부\n",
    "    \n",
    "    def calc_dist(self,seq): # seq->[0,1,2,3,4,0]\n",
    "        ### Your Codes Here ###  \n",
    "        return result\n",
    "    \n",
    "    def swap(self,seq,i,j):\n",
    "        temp=seq[:]\n",
    "        temp[i],temp[j]=temp[j],temp[i]\n",
    "        return temp\n",
    "    \n",
    "    def gen_candidate(self,seq):\n",
    "        ### Your Codes Here ### \n",
    "        return result\n",
    "        \n",
    "    def local_search(self):\n",
    "        ### Your Codes Here ###\n",
    "        pass\n",
    "\n",
    "        \n",
    "agent=TSP_Localsearch()\n",
    "agent.local_search()"
   ]
  }
 ],
 "metadata": {
  "kernelspec": {
   "display_name": "Python 3",
   "language": "python",
   "name": "python3"
  },
  "language_info": {
   "codemirror_mode": {
    "name": "ipython",
    "version": 3
   },
   "file_extension": ".py",
   "mimetype": "text/x-python",
   "name": "python",
   "nbconvert_exporter": "python",
   "pygments_lexer": "ipython3",
   "version": "3.6.7"
  }
 },
 "nbformat": 4,
 "nbformat_minor": 2
}
