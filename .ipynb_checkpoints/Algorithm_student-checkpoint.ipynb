{
 "cells": [
  {
   "cell_type": "markdown",
   "metadata": {},
   "source": [
    "## 실습0: 최소값 위치반환"
   ]
  },
  {
   "cell_type": "code",
   "execution_count": null,
   "metadata": {},
   "outputs": [],
   "source": [
    "## 주어진 리스트로부터 최소값의 위치를 반환하는 함수\n",
    "def min_loc(my_list):    \n",
    "    idx=0\n",
    "    temp_min=my_list[idx]    \n",
    "    for i in range(1,len(my_list)):\n",
    "        ## 코드를 작성해 보시오\n",
    "        \n",
    "        ## \n",
    "    return idx\n",
    "            "
   ]
  },
  {
   "cell_type": "code",
   "execution_count": null,
   "metadata": {},
   "outputs": [],
   "source": [
    "min_loc([7])"
   ]
  },
  {
   "cell_type": "markdown",
   "metadata": {},
   "source": [
    "## 실습1: 선형탐색"
   ]
  },
  {
   "cell_type": "code",
   "execution_count": null,
   "metadata": {},
   "outputs": [],
   "source": [
    "def linear_search(my_list, search_num):\n",
    "    i=0\n",
    "    while i<len(my_list):        \n",
    "        ## 코드를 작성해 보시오\n",
    "        \n",
    "        ## \n",
    "    return \"None was found.\""
   ]
  },
  {
   "cell_type": "code",
   "execution_count": null,
   "metadata": {},
   "outputs": [],
   "source": [
    "linear_search([1,7,3,2,8,9],3)"
   ]
  },
  {
   "cell_type": "markdown",
   "metadata": {},
   "source": [
    "## 실습2: 순차정렬"
   ]
  },
  {
   "cell_type": "code",
   "execution_count": 1,
   "metadata": {},
   "outputs": [
    {
     "name": "stdout",
     "output_type": "stream",
     "text": [
      "1 3\n"
     ]
    }
   ],
   "source": [
    "my_list=[2,7,3,1,8,9]\n",
    "min_val=min(my_list)\n",
    "idx=my_list.index(min_val)\n",
    "print(min_val,idx)"
   ]
  },
  {
   "cell_type": "code",
   "execution_count": 2,
   "metadata": {},
   "outputs": [
    {
     "name": "stdout",
     "output_type": "stream",
     "text": [
      "7 [8, 9]\n"
     ]
    }
   ],
   "source": [
    "my_list=[7,8,9]\n",
    "x=my_list.pop(0)\n",
    "print(x, my_list)"
   ]
  },
  {
   "cell_type": "code",
   "execution_count": null,
   "metadata": {},
   "outputs": [],
   "source": [
    "def linear_sort(my_list):\n",
    "    sorted=[]\n",
    "    while len(my_list)>0:\n",
    "        ## 코드를 작성해 보시오\n",
    "        \n",
    "        ## \n",
    "    return sorted\n",
    "        \n",
    "linear_sort([1,7,3,2,8,9])"
   ]
  },
  {
   "cell_type": "markdown",
   "metadata": {},
   "source": [
    "## 실습3: 삽입정렬"
   ]
  },
  {
   "cell_type": "code",
   "execution_count": 3,
   "metadata": {},
   "outputs": [
    {
     "name": "stdout",
     "output_type": "stream",
     "text": [
      "[1, 2, 7, 3]\n",
      "[1, 2, 1, 7, 3]\n"
     ]
    }
   ],
   "source": [
    "x=[1,2,3]\n",
    "x.insert(2,7)\n",
    "print(x)\n",
    "x.insert(2,1)\n",
    "print(x)"
   ]
  },
  {
   "cell_type": "code",
   "execution_count": null,
   "metadata": {},
   "outputs": [],
   "source": [
    "def insert_number(my_list, num):\n",
    "    idx=0\n",
    "    ## 코드를 작성해 보시오\n",
    "\n",
    "    ## \n",
    "    left=my_list[:idx]    \n",
    "    right=my_list[idx:]    \n",
    "    return left+[num]+right\n",
    "\n",
    "insert_number([7],6)"
   ]
  },
  {
   "cell_type": "code",
   "execution_count": null,
   "metadata": {},
   "outputs": [],
   "source": [
    "def insertion_sort(my_list):\n",
    "    sorted=[]\n",
    "    ## 코드를 작성해 보시오\n",
    "\n",
    "    ## \n",
    "    return sorted\n",
    "\n",
    "insertion_sort([1,7,3,2,8,9])\n",
    "        "
   ]
  },
  {
   "cell_type": "markdown",
   "metadata": {},
   "source": [
    "## 실습4: 동명이인찾기"
   ]
  },
  {
   "cell_type": "code",
   "execution_count": null,
   "metadata": {},
   "outputs": [],
   "source": [
    "def same_name(name_list):\n",
    "    my_dict={}\n",
    "    result=[]\n",
    "    for name in name_list:        \n",
    "    ## 코드를 작성해 보시오\n",
    "\n",
    "    ## \n",
    "    return result\n",
    "\n",
    "same_name(['a','b','a','a','c','d'])\n",
    "        \n",
    "        "
   ]
  },
  {
   "cell_type": "markdown",
   "metadata": {},
   "source": [
    "## 실습5: 친구의 친구찾기"
   ]
  },
  {
   "cell_type": "code",
   "execution_count": null,
   "metadata": {},
   "outputs": [],
   "source": [
    "fr_info={\n",
    "    'Summer':['John','Justin','Mike'],\n",
    "    'John':['Summer','Justin'],\n",
    "    'Justin':['John','Summer','Mike','May'],\n",
    "    'Mike':['Summer','Justin'],\n",
    "    'May':['Justin','Kim'],\n",
    "    'Kim':['May'],\n",
    "    'Tom':['Jerry'],\n",
    "    'Jerry':['Tom']\n",
    "}\n",
    "fr_info"
   ]
  },
  {
   "cell_type": "code",
   "execution_count": null,
   "metadata": {},
   "outputs": [],
   "source": [
    "def find_friends(a,fr):\n",
    "    qu=fr[a]\n",
    "    friends=[]\n",
    "    while(len(qu)>0):  \n",
    "        ## 코드를 작성해 보시오\n",
    "        \n",
    "        ##                     \n",
    "    return friends"
   ]
  },
  {
   "cell_type": "code",
   "execution_count": null,
   "metadata": {},
   "outputs": [],
   "source": [
    "find_friends('Summer',fr_info)"
   ]
  }
 ],
 "metadata": {
  "kernelspec": {
   "display_name": "Python 3",
   "language": "python",
   "name": "python3"
  },
  "language_info": {
   "codemirror_mode": {
    "name": "ipython",
    "version": 3
   },
   "file_extension": ".py",
   "mimetype": "text/x-python",
   "name": "python",
   "nbconvert_exporter": "python",
   "pygments_lexer": "ipython3",
   "version": "3.6.7"
  }
 },
 "nbformat": 4,
 "nbformat_minor": 2
}
