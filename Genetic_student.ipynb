{
 "cells": [
  {
   "cell_type": "code",
   "execution_count": 1,
   "metadata": {},
   "outputs": [],
   "source": [
    "import numpy as np\n",
    "from itertools import permutations"
   ]
  },
  {
   "cell_type": "markdown",
   "metadata": {},
   "source": [
    "## 염색체를 무작위로 생성하는 함수를 작성하시오.\n",
    "```python\n",
    ">>> gen(5)\n",
    ">>> [1,4,0,2,3]\n",
    ">>> gen(5)\n",
    ">>> [0,1,4,3,2]\n",
    "```\n"
   ]
  },
  {
   "cell_type": "code",
   "execution_count": 2,
   "metadata": {},
   "outputs": [
    {
     "data": {
      "text/plain": [
       "array([4, 0, 3, 2, 1])"
      ]
     },
     "execution_count": 2,
     "metadata": {},
     "output_type": "execute_result"
    }
   ],
   "source": [
    "def gen(length):\n",
    "    return np.random.permutation(length)\n",
    "\n",
    "gen(5)"
   ]
  },
  {
   "cell_type": "markdown",
   "metadata": {},
   "source": [
    "## 염색체의 교환작업을 수행하는 함수를 작성하시오.\n",
    "\n",
    "```python\n",
    ">>> swap(1,[3,4,5,6],[6,9,2,1])\n",
    ">>> 3\n",
    ">>> swap(2,[3,4,5,6],[6,9,2,1])\n",
    ">>> 5\n",
    ">>> swap(7,[3,4,5,6],[6,9,2,1])\n",
    ">>> 7\n",
    ">>> swap(9,[3,4,5,6],[6,9,2,1])\n",
    ">>> 4\n",
    ">>> swap(5,[6,9,2,1],[3,4,5,6])\n",
    ">>> 2\n",
    ">>> swap(4,[6,9,2,1],[3,4,5,6])\n",
    ">>> 9\n",
    "\n",
    "```"
   ]
  },
  {
   "cell_type": "markdown",
   "metadata": {},
   "source": [
    "<img src=\"geneticAlgorithm.jpg\" width=500>"
   ]
  },
  {
   "cell_type": "code",
   "execution_count": 3,
   "metadata": {},
   "outputs": [
    {
     "data": {
      "text/plain": [
       "5"
      ]
     },
     "execution_count": 3,
     "metadata": {},
     "output_type": "execute_result"
    }
   ],
   "source": [
    "def swap(i,temp_a,temp_b):\n",
    "    if i not in temp_b:\n",
    "        return i\n",
    "    else:\n",
    "        idx=temp_b.index(i)\n",
    "        if temp_a[idx] in temp_b:\n",
    "            return swap(temp_a[idx],temp_a,temp_b)\n",
    "        else:\n",
    "            return temp_a[idx]\n",
    "    \n",
    "swap(2,[3,4,5,6],[6,9,2,1])\n",
    "    "
   ]
  },
  {
   "cell_type": "markdown",
   "metadata": {},
   "source": [
    "## swap 함수를 사용하여 두 염색체의 교환을 완전하게 수행하는 함수를 작성하시오.\n",
    "```python\n",
    ">>> pmx([1,2,3,4,5,6,7,8,9],[5,4,6,9,2,1,7,8,3],2,5) \n",
    ">>> ([6, 5, 3, 4, 2, 1, 7, 8, 9], [2, 4, 1, 9, 5, 6, 7, 8, 3])\n",
    "```"
   ]
  },
  {
   "cell_type": "code",
   "execution_count": 4,
   "metadata": {},
   "outputs": [
    {
     "data": {
      "text/plain": [
       "([6, 5, 3, 4, 2, 1, 7, 8, 9], [2, 4, 1, 9, 5, 6, 7, 8, 3])"
      ]
     },
     "execution_count": 4,
     "metadata": {},
     "output_type": "execute_result"
    }
   ],
   "source": [
    "def pmx(list_a, list_b, start_index, end_index):\n",
    "    #\n",
    "    \n",
    "    result_a=[]\n",
    "    result_b=[]\n",
    "    temp_a=list_a[start_index:end_index+1]\n",
    "    temp_b=list_b[start_index:end_index+1]\n",
    "    \n",
    "    for i in range(len(list_a)):\n",
    "        if i in range(start_index,end_index+1):\n",
    "            result_a.append(list_b[i])\n",
    "            result_b.append(list_a[i])            \n",
    "        else:\n",
    "            result_a.append(swap(list_a[i],temp_a,temp_b))\n",
    "            result_b.append(swap(list_b[i],temp_b,temp_a))\n",
    "        \n",
    "    return result_a,result_b\n",
    "\n",
    "            \n",
    "pmx([1,2,3,4,5,6,7,8,9],[5,4,6,9,2,1,7,8,3],4,6)    "
   ]
  },
  {
   "cell_type": "markdown",
   "metadata": {},
   "source": [
    "## 유전알고리즘 설계"
   ]
  },
  {
   "cell_type": "markdown",
   "metadata": {},
   "source": [
    "다음과 같이 도시간의 거리 매트릭스가 주어져 있다.\n",
    "0번째 도시에서 출발해서 다시 0번째 도시로 돌아오는 TSP문제를 유전알고리즘을 사용하여 풀려고 한다. \n",
    "다음의 뼈대 클래스를 완성하여 최단경로를 찾아보시오."
   ]
  },
  {
   "cell_type": "code",
   "execution_count": 8,
   "metadata": {},
   "outputs": [
    {
     "data": {
      "text/plain": [
       "array([[3, 1, 7, 6, 2, 8],\n",
       "       [2, 5, 3, 2, 6, 5],\n",
       "       [1, 3, 1, 2, 2, 5],\n",
       "       [4, 7, 7, 8, 3, 2],\n",
       "       [2, 0, 3, 2, 4, 5],\n",
       "       [3, 6, 7, 3, 4, 5]])"
      ]
     },
     "execution_count": 8,
     "metadata": {},
     "output_type": "execute_result"
    }
   ],
   "source": [
    "matrix=np.array([[3,1,7,6,2,8],[2,5,3,2,6,5],[1,3,1,2,2,5],[4,7,7,8,3,2],[2,0,3,2,4,5],[3,6,7,3,4,5]])\n",
    "matrix"
   ]
  },
  {
   "cell_type": "code",
   "execution_count": 401,
   "metadata": {},
   "outputs": [],
   "source": [
    "def swap(i,temp_a,temp_b):\n",
    "    if i not in temp_b:\n",
    "        return i\n",
    "    else:\n",
    "        idx=temp_b.index(i)\n",
    "        if temp_a[idx] in temp_b:\n",
    "            return swap(temp_a[idx],temp_a,temp_b)\n",
    "        else:\n",
    "            return temp_a[idx]\n",
    "\n",
    "def pmx(list_a, list_b, start_index, end_index):     \n",
    "    result_a=[]\n",
    "    result_b=[]\n",
    "    temp_a=list_a[start_index:end_index+1]\n",
    "    temp_b=list_b[start_index:end_index+1]\n",
    "\n",
    "    for i in range(len(list_a)):\n",
    "        if i in range(start_index,end_index+1):\n",
    "            result_a.append(list_b[i])\n",
    "            result_b.append(list_a[i])            \n",
    "        else:\n",
    "            result_a.append(swap(list_a[i],temp_a,temp_b))\n",
    "            result_b.append(swap(list_b[i],temp_b,temp_a))\n",
    "\n",
    "    return result_a,result_b\n",
    "\n",
    "\n",
    "class GeneticAlgorithm:\n",
    "    \n",
    "    def __init__(self, target_city):\n",
    "        self.gen=20\n",
    "        self.num_pop=20\n",
    "        self.target_city=target_city \n",
    "        self.population=[self.genChromosome() for i in range(self.num_pop)]\n",
    "        self.evalGeneration()\n",
    "        \n",
    "    # 목표도시 빼고, 여정 염색체로 만들기\n",
    "    def genChromosome(self):\n",
    "        to_permute=list(range(len(matrix)))\n",
    "        to_permute.remove(self.target_city)\n",
    "        return list(np.random.permutation(to_permute))\n",
    "    \n",
    "    ## 개별 염색체 평가하기\n",
    "    def evalChromosome(self,chromosome):\n",
    "        return result\n",
    "    \n",
    "    # 전세대 염색체 평가하여 정렬하기\n",
    "    def evalGeneration(self):\n",
    "        return \n",
    "\n",
    "\n",
    "    def genNextGeneration(self):\n",
    "        return        \n",
    "    \n",
    "    # 유전알고리즘 수행\n",
    "    def do_algorithm(self):\n",
    "        return\n",
    "\n",
    "    \n",
    "    "
   ]
  },
  {
   "cell_type": "code",
   "execution_count": 1,
   "metadata": {},
   "outputs": [
    {
     "ename": "NameError",
     "evalue": "name 'GeneticAlgorithm' is not defined",
     "output_type": "error",
     "traceback": [
      "\u001b[0;31m---------------------------------------------------------------------------\u001b[0m",
      "\u001b[0;31mNameError\u001b[0m                                 Traceback (most recent call last)",
      "\u001b[0;32m<ipython-input-1-2b11b3d23611>\u001b[0m in \u001b[0;36m<module>\u001b[0;34m\u001b[0m\n\u001b[0;32m----> 1\u001b[0;31m \u001b[0mgen\u001b[0m\u001b[0;34m=\u001b[0m\u001b[0mGeneticAlgorithm\u001b[0m\u001b[0;34m(\u001b[0m\u001b[0;36m0\u001b[0m\u001b[0;34m)\u001b[0m\u001b[0;34m\u001b[0m\u001b[0;34m\u001b[0m\u001b[0m\n\u001b[0m",
      "\u001b[0;31mNameError\u001b[0m: name 'GeneticAlgorithm' is not defined"
     ]
    }
   ],
   "source": [
    "gen=GeneticAlgorithm(0)"
   ]
  },
  {
   "cell_type": "code",
   "execution_count": 425,
   "metadata": {},
   "outputs": [
    {
     "name": "stdout",
     "output_type": "stream",
     "text": [
      "([4, 1, 3, 5, 2], 14)\n",
      "([1, 3, 5, 4, 2], 13)\n",
      "([1, 3, 5, 4, 2], 13)\n",
      "([1, 3, 5, 4, 2], 13)\n",
      "([1, 3, 5, 4, 2], 13)\n",
      "([1, 3, 5, 4, 2], 13)\n"
     ]
    }
   ],
   "source": [
    "gen.do_algorithm()"
   ]
  },
  {
   "cell_type": "code",
   "execution_count": 353,
   "metadata": {},
   "outputs": [
    {
     "data": {
      "text/plain": [
       "([4, 1, 2, 3, 5], 12)"
      ]
     },
     "execution_count": 353,
     "metadata": {},
     "output_type": "execute_result"
    }
   ],
   "source": [
    "gen.best"
   ]
  }
 ],
 "metadata": {
  "kernelspec": {
   "display_name": "Python 3",
   "language": "python",
   "name": "python3"
  },
  "language_info": {
   "codemirror_mode": {
    "name": "ipython",
    "version": 3
   },
   "file_extension": ".py",
   "mimetype": "text/x-python",
   "name": "python",
   "nbconvert_exporter": "python",
   "pygments_lexer": "ipython3",
   "version": "3.6.7"
  }
 },
 "nbformat": 4,
 "nbformat_minor": 2
}
